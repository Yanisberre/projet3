{
  "nbformat": 4,
  "nbformat_minor": 0,
  "metadata": {
    "colab": {
      "provenance": [],
      "include_colab_link": true
    },
    "kernelspec": {
      "name": "python3",
      "display_name": "Python 3"
    },
    "language_info": {
      "name": "python"
    }
  },
  "cells": [
    {
      "cell_type": "markdown",
      "metadata": {
        "id": "view-in-github",
        "colab_type": "text"
      },
      "source": [
        "<a href=\"https://colab.research.google.com/github/Yanisberre/projet3/blob/main/120ans_JO.ipynb\" target=\"_parent\"><img src=\"https://colab.research.google.com/assets/colab-badge.svg\" alt=\"Open In Colab\"/></a>"
      ]
    },
    {
      "cell_type": "code",
      "execution_count": 2,
      "metadata": {
        "id": "Y-z14t-eZmy8"
      },
      "outputs": [],
      "source": [
        "import pandas as pd\n",
        "import numpy as np"
      ]
    },
    {
      "cell_type": "code",
      "source": [
        "from google.colab import drive\n",
        "drive.mount('/content/drive')"
      ],
      "metadata": {
        "id": "SfRhherbaHp_",
        "colab": {
          "base_uri": "https://localhost:8080/"
        },
        "outputId": "d59654f8-63cc-4b2b-d80b-65c3ed687029"
      },
      "execution_count": 3,
      "outputs": [
        {
          "output_type": "stream",
          "name": "stdout",
          "text": [
            "Mounted at /content/drive\n"
          ]
        }
      ]
    },
    {
      "cell_type": "code",
      "source": [
        "path = \"/content/drive/MyDrive/Copie de PARIS 0224 - Data Analyst/Projets/mini projet /Farid_Yanis_Mission_data/Commun/Fichier CSV/120_years.csv.zip\"\n",
        "df = pd.read_csv(path)"
      ],
      "metadata": {
        "id": "Ga-pqm0UaKbe"
      },
      "execution_count": 4,
      "outputs": []
    },
    {
      "cell_type": "code",
      "source": [
        "print(df.head().to_markdown())"
      ],
      "metadata": {
        "id": "_1kODECvcmps",
        "colab": {
          "base_uri": "https://localhost:8080/"
        },
        "outputId": "eb4f54bf-2fde-4f49-c321-9cdc3b20bf52"
      },
      "execution_count": 5,
      "outputs": [
        {
          "output_type": "stream",
          "name": "stdout",
          "text": [
            "|    |   ID | Name                     | Sex   |   Age |   Height |   Weight | Team           | NOC   | Games       |   Year | Season   | City      | Sport         | Event                            | Medal   |\n",
            "|---:|-----:|:-------------------------|:------|------:|---------:|---------:|:---------------|:------|:------------|-------:|:---------|:----------|:--------------|:---------------------------------|:--------|\n",
            "|  0 |    1 | A Dijiang                | M     |    24 |      180 |       80 | China          | CHN   | 1992 Summer |   1992 | Summer   | Barcelona | Basketball    | Basketball Men's Basketball      | nan     |\n",
            "|  1 |    2 | A Lamusi                 | M     |    23 |      170 |       60 | China          | CHN   | 2012 Summer |   2012 | Summer   | London    | Judo          | Judo Men's Extra-Lightweight     | nan     |\n",
            "|  2 |    3 | Gunnar Nielsen Aaby      | M     |    24 |      nan |      nan | Denmark        | DEN   | 1920 Summer |   1920 | Summer   | Antwerpen | Football      | Football Men's Football          | nan     |\n",
            "|  3 |    4 | Edgar Lindenau Aabye     | M     |    34 |      nan |      nan | Denmark/Sweden | DEN   | 1900 Summer |   1900 | Summer   | Paris     | Tug-Of-War    | Tug-Of-War Men's Tug-Of-War      | Gold    |\n",
            "|  4 |    5 | Christine Jacoba Aaftink | F     |    21 |      185 |       82 | Netherlands    | NED   | 1988 Winter |   1988 | Winter   | Calgary   | Speed Skating | Speed Skating Women's 500 metres | nan     |\n"
          ]
        }
      ]
    },
    {
      "cell_type": "code",
      "source": [
        "print(df.shape)"
      ],
      "metadata": {
        "id": "n2GBHRoOeQVP",
        "colab": {
          "base_uri": "https://localhost:8080/"
        },
        "outputId": "9cd12073-bf59-442e-bbde-31253027b196"
      },
      "execution_count": 6,
      "outputs": [
        {
          "output_type": "stream",
          "name": "stdout",
          "text": [
            "(271116, 15)\n"
          ]
        }
      ]
    },
    {
      "cell_type": "code",
      "source": [
        "print(df.info())"
      ],
      "metadata": {
        "id": "n4DYC5IVeXgc",
        "colab": {
          "base_uri": "https://localhost:8080/"
        },
        "outputId": "4434e33c-2754-4550-d827-cf9a0a493a29"
      },
      "execution_count": 7,
      "outputs": [
        {
          "output_type": "stream",
          "name": "stdout",
          "text": [
            "<class 'pandas.core.frame.DataFrame'>\n",
            "RangeIndex: 271116 entries, 0 to 271115\n",
            "Data columns (total 15 columns):\n",
            " #   Column  Non-Null Count   Dtype  \n",
            "---  ------  --------------   -----  \n",
            " 0   ID      271116 non-null  int64  \n",
            " 1   Name    271116 non-null  object \n",
            " 2   Sex     271116 non-null  object \n",
            " 3   Age     261642 non-null  float64\n",
            " 4   Height  210945 non-null  float64\n",
            " 5   Weight  208241 non-null  float64\n",
            " 6   Team    271116 non-null  object \n",
            " 7   NOC     271116 non-null  object \n",
            " 8   Games   271116 non-null  object \n",
            " 9   Year    271116 non-null  int64  \n",
            " 10  Season  271116 non-null  object \n",
            " 11  City    271116 non-null  object \n",
            " 12  Sport   271116 non-null  object \n",
            " 13  Event   271116 non-null  object \n",
            " 14  Medal   39783 non-null   object \n",
            "dtypes: float64(3), int64(2), object(10)\n",
            "memory usage: 31.0+ MB\n",
            "None\n"
          ]
        }
      ]
    },
    {
      "cell_type": "code",
      "source": [
        "df_drop_columns = df.drop(columns=['NOC','Event','Height','Weight','Games'])"
      ],
      "metadata": {
        "id": "DidY_S_tfQO1"
      },
      "execution_count": 8,
      "outputs": []
    },
    {
      "cell_type": "code",
      "source": [
        "print(df_drop_columns.head().to_markdown())"
      ],
      "metadata": {
        "id": "GFLnU6_0gxr5",
        "colab": {
          "base_uri": "https://localhost:8080/"
        },
        "outputId": "9ce48f1c-f9f1-4ba7-a81f-c51b4be8dde1"
      },
      "execution_count": 9,
      "outputs": [
        {
          "output_type": "stream",
          "name": "stdout",
          "text": [
            "|    |   ID | Name                     | Sex   |   Age | Team           |   Year | Season   | City      | Sport         | Medal   |\n",
            "|---:|-----:|:-------------------------|:------|------:|:---------------|-------:|:---------|:----------|:--------------|:--------|\n",
            "|  0 |    1 | A Dijiang                | M     |    24 | China          |   1992 | Summer   | Barcelona | Basketball    | nan     |\n",
            "|  1 |    2 | A Lamusi                 | M     |    23 | China          |   2012 | Summer   | London    | Judo          | nan     |\n",
            "|  2 |    3 | Gunnar Nielsen Aaby      | M     |    24 | Denmark        |   1920 | Summer   | Antwerpen | Football      | nan     |\n",
            "|  3 |    4 | Edgar Lindenau Aabye     | M     |    34 | Denmark/Sweden |   1900 | Summer   | Paris     | Tug-Of-War    | Gold    |\n",
            "|  4 |    5 | Christine Jacoba Aaftink | F     |    21 | Netherlands    |   1988 | Winter   | Calgary   | Speed Skating | nan     |\n"
          ]
        }
      ]
    },
    {
      "cell_type": "code",
      "source": [
        "print(df_drop_columns.shape)"
      ],
      "metadata": {
        "id": "B0ZbclhihlZB",
        "colab": {
          "base_uri": "https://localhost:8080/"
        },
        "outputId": "e895026e-6f5b-4f2e-c372-ea763623125e"
      },
      "execution_count": 10,
      "outputs": [
        {
          "output_type": "stream",
          "name": "stdout",
          "text": [
            "(271116, 10)\n"
          ]
        }
      ]
    },
    {
      "cell_type": "code",
      "source": [
        "#df_na = df_drop_columns.dropna()"
      ],
      "metadata": {
        "id": "BiJlt0qihqXV"
      },
      "execution_count": 11,
      "outputs": []
    },
    {
      "cell_type": "code",
      "source": [
        "print(df_drop_columns.head().to_markdown())"
      ],
      "metadata": {
        "id": "PcRd0aA0iCTp",
        "colab": {
          "base_uri": "https://localhost:8080/"
        },
        "outputId": "8972213a-f051-4bd4-c1dc-5280f3ec6de4"
      },
      "execution_count": 12,
      "outputs": [
        {
          "output_type": "stream",
          "name": "stdout",
          "text": [
            "|    |   ID | Name                     | Sex   |   Age | Team           |   Year | Season   | City      | Sport         | Medal   |\n",
            "|---:|-----:|:-------------------------|:------|------:|:---------------|-------:|:---------|:----------|:--------------|:--------|\n",
            "|  0 |    1 | A Dijiang                | M     |    24 | China          |   1992 | Summer   | Barcelona | Basketball    | nan     |\n",
            "|  1 |    2 | A Lamusi                 | M     |    23 | China          |   2012 | Summer   | London    | Judo          | nan     |\n",
            "|  2 |    3 | Gunnar Nielsen Aaby      | M     |    24 | Denmark        |   1920 | Summer   | Antwerpen | Football      | nan     |\n",
            "|  3 |    4 | Edgar Lindenau Aabye     | M     |    34 | Denmark/Sweden |   1900 | Summer   | Paris     | Tug-Of-War    | Gold    |\n",
            "|  4 |    5 | Christine Jacoba Aaftink | F     |    21 | Netherlands    |   1988 | Winter   | Calgary   | Speed Skating | nan     |\n"
          ]
        }
      ]
    },
    {
      "cell_type": "code",
      "source": [
        "# Filtrer les sportifs français\n",
        "df_francais = df_drop_columns[df_drop_columns['Team'] == 'France']\n",
        "# Afficher le DataFrame filtré\n",
        "print(df_francais)\n"
      ],
      "metadata": {
        "id": "kegRzc8PizPI",
        "colab": {
          "base_uri": "https://localhost:8080/"
        },
        "outputId": "8b15b614-2b4a-48f0-e627-48dd2b0dbb98"
      },
      "execution_count": 13,
      "outputs": [
        {
          "output_type": "stream",
          "name": "stdout",
          "text": [
            "            ID                                Name Sex   Age    Team  Year  \\\n",
            "98          34  Jamale (Djamel-) Aarrass (Ahrass-)   M  30.0  France  2012   \n",
            "145         52                       Patrick Abada   M  22.0  France  1976   \n",
            "149         56                          Ren Abadie   M  21.0  France  1956   \n",
            "150         56                          Ren Abadie   M  21.0  France  1956   \n",
            "173         73                           Luc Abalo   M  23.0  France  2008   \n",
            "...        ...                                 ...  ..   ...     ...   ...   \n",
            "270662  135362                    Michel Zucarelli   M  18.0  France  1972   \n",
            "270663  135362                    Michel Zucarelli   M  18.0  France  1972   \n",
            "271036  135538                     Jonathan Zwikel   M  22.0  France  1998   \n",
            "271037  135538                     Jonathan Zwikel   M  26.0  France  2002   \n",
            "271038  135539               Marius Edmund Zwiller   M  18.0  France  1924   \n",
            "\n",
            "        Season            City       Sport Medal  \n",
            "98      Summer          London   Athletics   NaN  \n",
            "145     Summer        Montreal   Athletics   NaN  \n",
            "149     Summer       Melbourne     Cycling   NaN  \n",
            "150     Summer       Melbourne     Cycling  Gold  \n",
            "173     Summer         Beijing    Handball  Gold  \n",
            "...        ...             ...         ...   ...  \n",
            "270662  Summer          Munich     Cycling   NaN  \n",
            "270663  Summer          Munich     Cycling   NaN  \n",
            "271036  Winter          Nagano  Ice Hockey   NaN  \n",
            "271037  Winter  Salt Lake City  Ice Hockey   NaN  \n",
            "271038  Summer           Paris    Swimming   NaN  \n",
            "\n",
            "[11988 rows x 10 columns]\n"
          ]
        }
      ]
    },
    {
      "cell_type": "code",
      "source": [
        "print(df_francais.head().to_markdown())"
      ],
      "metadata": {
        "id": "oatf0ZtZjtpf",
        "colab": {
          "base_uri": "https://localhost:8080/"
        },
        "outputId": "81b5b0e4-2204-45db-ae26-fc37d472aa61"
      },
      "execution_count": 14,
      "outputs": [
        {
          "output_type": "stream",
          "name": "stdout",
          "text": [
            "|     |   ID | Name                               | Sex   |   Age | Team   |   Year | Season   | City      | Sport     | Medal   |\n",
            "|----:|-----:|:-----------------------------------|:------|------:|:-------|-------:|:---------|:----------|:----------|:--------|\n",
            "|  98 |   34 | Jamale (Djamel-) Aarrass (Ahrass-) | M     |    30 | France |   2012 | Summer   | London    | Athletics | nan     |\n",
            "| 145 |   52 | Patrick Abada                      | M     |    22 | France |   1976 | Summer   | Montreal  | Athletics | nan     |\n",
            "| 149 |   56 | Ren Abadie                         | M     |    21 | France |   1956 | Summer   | Melbourne | Cycling   | nan     |\n",
            "| 150 |   56 | Ren Abadie                         | M     |    21 | France |   1956 | Summer   | Melbourne | Cycling   | Gold    |\n",
            "| 173 |   73 | Luc Abalo                          | M     |    23 | France |   2008 | Summer   | Beijing   | Handball  | Gold    |\n"
          ]
        }
      ]
    },
    {
      "cell_type": "code",
      "source": [
        "print(df_francais.shape)"
      ],
      "metadata": {
        "id": "Fd0pvtmKkAW1",
        "colab": {
          "base_uri": "https://localhost:8080/"
        },
        "outputId": "331b2edc-7e31-4292-ecc9-5a637b7878d6"
      },
      "execution_count": 15,
      "outputs": [
        {
          "output_type": "stream",
          "name": "stdout",
          "text": [
            "(11988, 10)\n"
          ]
        }
      ]
    },
    {
      "cell_type": "code",
      "source": [
        "df_francais['Medal'] = df_francais['Medal'].replace(np.nan, 'No Medal')"
      ],
      "metadata": {
        "colab": {
          "base_uri": "https://localhost:8080/"
        },
        "id": "v_fF_MYP6gTM",
        "outputId": "9104350a-2a3b-4f5a-dec7-db5904eb1af1"
      },
      "execution_count": 16,
      "outputs": [
        {
          "output_type": "stream",
          "name": "stderr",
          "text": [
            "<ipython-input-16-f4ba18b24a1c>:1: SettingWithCopyWarning: \n",
            "A value is trying to be set on a copy of a slice from a DataFrame.\n",
            "Try using .loc[row_indexer,col_indexer] = value instead\n",
            "\n",
            "See the caveats in the documentation: https://pandas.pydata.org/pandas-docs/stable/user_guide/indexing.html#returning-a-view-versus-a-copy\n",
            "  df_francais['Medal'] = df_francais['Medal'].replace(np.nan, 'No Medal')\n"
          ]
        }
      ]
    },
    {
      "cell_type": "code",
      "source": [
        "print(df_francais.head().to_markdown())"
      ],
      "metadata": {
        "colab": {
          "base_uri": "https://localhost:8080/"
        },
        "id": "7BQbI9007VBD",
        "outputId": "1945eefc-019d-430f-e35c-a19b2cde8e4b"
      },
      "execution_count": 17,
      "outputs": [
        {
          "output_type": "stream",
          "name": "stdout",
          "text": [
            "|     |   ID | Name                               | Sex   |   Age | Team   |   Year | Season   | City      | Sport     | Medal    |\n",
            "|----:|-----:|:-----------------------------------|:------|------:|:-------|-------:|:---------|:----------|:----------|:---------|\n",
            "|  98 |   34 | Jamale (Djamel-) Aarrass (Ahrass-) | M     |    30 | France |   2012 | Summer   | London    | Athletics | No Medal |\n",
            "| 145 |   52 | Patrick Abada                      | M     |    22 | France |   1976 | Summer   | Montreal  | Athletics | No Medal |\n",
            "| 149 |   56 | Ren Abadie                         | M     |    21 | France |   1956 | Summer   | Melbourne | Cycling   | No Medal |\n",
            "| 150 |   56 | Ren Abadie                         | M     |    21 | France |   1956 | Summer   | Melbourne | Cycling   | Gold     |\n",
            "| 173 |   73 | Luc Abalo                          | M     |    23 | France |   2008 | Summer   | Beijing   | Handball  | Gold     |\n"
          ]
        }
      ]
    },
    {
      "cell_type": "code",
      "source": [
        "print(df_francais.shape)"
      ],
      "metadata": {
        "colab": {
          "base_uri": "https://localhost:8080/"
        },
        "id": "qH9QUSP27p_f",
        "outputId": "4cec828d-1d9d-4719-c771-2584149d3364"
      },
      "execution_count": 18,
      "outputs": [
        {
          "output_type": "stream",
          "name": "stdout",
          "text": [
            "(11988, 10)\n"
          ]
        }
      ]
    },
    {
      "cell_type": "code",
      "source": [
        "valeurs_uniques = sorted(df_francais['Age'].unique())\n",
        "print(valeurs_uniques)"
      ],
      "metadata": {
        "colab": {
          "base_uri": "https://localhost:8080/"
        },
        "id": "IcFvYt-J_X4g",
        "outputId": "ca1d324c-07ef-449f-939a-610ba9983656"
      },
      "execution_count": 19,
      "outputs": [
        {
          "output_type": "stream",
          "name": "stdout",
          "text": [
            "[17.0, 18.0, 19.0, 20.0, 21.0, 22.0, 23.0, 24.0, 25.0, 26.0, 27.0, 28.0, 30.0, 31.0, 34.0, 38.0, nan, 12.0, 13.0, 14.0, 15.0, 16.0, 29.0, 32.0, 33.0, 35.0, 36.0, 37.0, 39.0, 40.0, 41.0, 42.0, 43.0, 44.0, 45.0, 46.0, 47.0, 48.0, 49.0, 50.0, 51.0, 52.0, 53.0, 54.0, 55.0, 56.0, 57.0, 58.0, 59.0, 60.0, 61.0, 62.0, 63.0, 64.0, 65.0, 66.0, 67.0, 69.0, 70.0, 71.0, 72.0, 74.0, 75.0, 81.0]\n"
          ]
        }
      ]
    },
    {
      "cell_type": "code",
      "source": [
        "df_france_filtre = df_francais[df_francais['Sport'].isin(['Art Competitions' , 'Alpine Skiing', 'Bobsleigh' , 'Biathlon' , 'Cross Country Skiing' , 'Curling','Figure Skating', 'Freestyle Skiing','Ice Hockey','Luge','Military Ski Patrol','Nordic Combined','Short Track Speed Skating','Skeleton','Ski Jumping','Snowboarding','Speed Skating']) == False]"
      ],
      "metadata": {
        "id": "ZzIYf0aApmqm"
      },
      "execution_count": 20,
      "outputs": []
    },
    {
      "cell_type": "code",
      "source": [
        "print(df_france_filtre.head().to_markdown())"
      ],
      "metadata": {
        "colab": {
          "base_uri": "https://localhost:8080/"
        },
        "id": "7stoQPlttfDG",
        "outputId": "3c7cfabe-1f1f-4ce2-e8d2-3d5574f5a297"
      },
      "execution_count": 21,
      "outputs": [
        {
          "output_type": "stream",
          "name": "stdout",
          "text": [
            "|     |   ID | Name                               | Sex   |   Age | Team   |   Year | Season   | City      | Sport     | Medal    |\n",
            "|----:|-----:|:-----------------------------------|:------|------:|:-------|-------:|:---------|:----------|:----------|:---------|\n",
            "|  98 |   34 | Jamale (Djamel-) Aarrass (Ahrass-) | M     |    30 | France |   2012 | Summer   | London    | Athletics | No Medal |\n",
            "| 145 |   52 | Patrick Abada                      | M     |    22 | France |   1976 | Summer   | Montreal  | Athletics | No Medal |\n",
            "| 149 |   56 | Ren Abadie                         | M     |    21 | France |   1956 | Summer   | Melbourne | Cycling   | No Medal |\n",
            "| 150 |   56 | Ren Abadie                         | M     |    21 | France |   1956 | Summer   | Melbourne | Cycling   | Gold     |\n",
            "| 173 |   73 | Luc Abalo                          | M     |    23 | France |   2008 | Summer   | Beijing   | Handball  | Gold     |\n"
          ]
        }
      ]
    },
    {
      "cell_type": "code",
      "source": [
        "print(df_france_filtre.shape)"
      ],
      "metadata": {
        "colab": {
          "base_uri": "https://localhost:8080/"
        },
        "id": "moAUpBYFuc_p",
        "outputId": "f295b86b-e6c4-4a64-8a22-168791a751e6"
      },
      "execution_count": 22,
      "outputs": [
        {
          "output_type": "stream",
          "name": "stdout",
          "text": [
            "(9646, 10)\n"
          ]
        }
      ]
    },
    {
      "cell_type": "code",
      "source": [
        "df_france_filtre['Sport'] = df_france_filtre['Sport'].replace('Equestrianism', 'Equestrian')"
      ],
      "metadata": {
        "colab": {
          "base_uri": "https://localhost:8080/"
        },
        "id": "8QcFqpok12Ns",
        "outputId": "9a9aea79-b0bf-42cc-9a23-14dcf9edafaa"
      },
      "execution_count": 23,
      "outputs": [
        {
          "output_type": "stream",
          "name": "stderr",
          "text": [
            "<ipython-input-23-7dbc7cfe3bc5>:1: SettingWithCopyWarning: \n",
            "A value is trying to be set on a copy of a slice from a DataFrame.\n",
            "Try using .loc[row_indexer,col_indexer] = value instead\n",
            "\n",
            "See the caveats in the documentation: https://pandas.pydata.org/pandas-docs/stable/user_guide/indexing.html#returning-a-view-versus-a-copy\n",
            "  df_france_filtre['Sport'] = df_france_filtre['Sport'].replace('Equestrianism', 'Equestrian')\n"
          ]
        }
      ]
    },
    {
      "cell_type": "code",
      "source": [
        "df_france_filtre['Sport'] = df_france_filtre['Sport'].replace(['Rugby Sevens'], 'Rugby')"
      ],
      "metadata": {
        "colab": {
          "base_uri": "https://localhost:8080/"
        },
        "id": "kJziLUf-4ni3",
        "outputId": "932977ad-b16c-4ff0-c8f2-cc54df4ed36e"
      },
      "execution_count": 24,
      "outputs": [
        {
          "output_type": "stream",
          "name": "stderr",
          "text": [
            "<ipython-input-24-24c5ac12a7b7>:1: SettingWithCopyWarning: \n",
            "A value is trying to be set on a copy of a slice from a DataFrame.\n",
            "Try using .loc[row_indexer,col_indexer] = value instead\n",
            "\n",
            "See the caveats in the documentation: https://pandas.pydata.org/pandas-docs/stable/user_guide/indexing.html#returning-a-view-versus-a-copy\n",
            "  df_france_filtre['Sport'] = df_france_filtre['Sport'].replace(['Rugby Sevens'], 'Rugby')\n"
          ]
        }
      ]
    },
    {
      "cell_type": "code",
      "source": [
        "df_france_filtre['Sport'] = df_france_filtre['Sport'].replace('Rhythmic Gymnastics', 'Gymnastics')"
      ],
      "metadata": {
        "colab": {
          "base_uri": "https://localhost:8080/"
        },
        "id": "WEFufqciI2_j",
        "outputId": "152de7f9-c6fb-4ad5-fbea-83e6bcc2ccd8"
      },
      "execution_count": 25,
      "outputs": [
        {
          "output_type": "stream",
          "name": "stderr",
          "text": [
            "<ipython-input-25-22937b7a05fd>:1: SettingWithCopyWarning: \n",
            "A value is trying to be set on a copy of a slice from a DataFrame.\n",
            "Try using .loc[row_indexer,col_indexer] = value instead\n",
            "\n",
            "See the caveats in the documentation: https://pandas.pydata.org/pandas-docs/stable/user_guide/indexing.html#returning-a-view-versus-a-copy\n",
            "  df_france_filtre['Sport'] = df_france_filtre['Sport'].replace('Rhythmic Gymnastics', 'Gymnastics')\n"
          ]
        }
      ]
    },
    {
      "cell_type": "code",
      "source": [
        "df_france_filtre['Sport'] = df_france_filtre['Sport'].replace('Synchronized Swimming', 'Swimming')"
      ],
      "metadata": {
        "colab": {
          "base_uri": "https://localhost:8080/"
        },
        "id": "_6Y-bKv2JEYJ",
        "outputId": "e841b62e-5133-490e-c8d9-b675b027dd69"
      },
      "execution_count": 26,
      "outputs": [
        {
          "output_type": "stream",
          "name": "stderr",
          "text": [
            "<ipython-input-26-30840c8cac20>:1: SettingWithCopyWarning: \n",
            "A value is trying to be set on a copy of a slice from a DataFrame.\n",
            "Try using .loc[row_indexer,col_indexer] = value instead\n",
            "\n",
            "See the caveats in the documentation: https://pandas.pydata.org/pandas-docs/stable/user_guide/indexing.html#returning-a-view-versus-a-copy\n",
            "  df_france_filtre['Sport'] = df_france_filtre['Sport'].replace('Synchronized Swimming', 'Swimming')\n"
          ]
        }
      ]
    },
    {
      "cell_type": "code",
      "source": [
        "valeurs_uniques = sorted(df_france_filtre['Sport'].unique())\n",
        "print(len(valeurs_uniques))"
      ],
      "metadata": {
        "colab": {
          "base_uri": "https://localhost:8080/"
        },
        "id": "cca86SgO5Vw4",
        "outputId": "7934dfc5-d357-4308-e3cc-8d76288187a9"
      },
      "execution_count": 27,
      "outputs": [
        {
          "output_type": "stream",
          "name": "stdout",
          "text": [
            "34\n"
          ]
        }
      ]
    },
    {
      "cell_type": "code",
      "source": [
        "df_france_filtre['Age'] = df_france_filtre['Age'].fillna(0)"
      ],
      "metadata": {
        "colab": {
          "base_uri": "https://localhost:8080/"
        },
        "id": "brYAbf9c0RLR",
        "outputId": "f3de6642-6177-4599-cf61-fcfc4a5136b0"
      },
      "execution_count": 28,
      "outputs": [
        {
          "output_type": "stream",
          "name": "stderr",
          "text": [
            "<ipython-input-28-e7ebb7cca91d>:1: SettingWithCopyWarning: \n",
            "A value is trying to be set on a copy of a slice from a DataFrame.\n",
            "Try using .loc[row_indexer,col_indexer] = value instead\n",
            "\n",
            "See the caveats in the documentation: https://pandas.pydata.org/pandas-docs/stable/user_guide/indexing.html#returning-a-view-versus-a-copy\n",
            "  df_france_filtre['Age'] = df_france_filtre['Age'].fillna(0)\n"
          ]
        }
      ]
    },
    {
      "cell_type": "code",
      "source": [
        "#df_france_filtre['Age'] = df_france_filtre['Age'].replace('', pd.NA)"
      ],
      "metadata": {
        "id": "vi3mxkWZ0l7h"
      },
      "execution_count": 29,
      "outputs": []
    },
    {
      "cell_type": "code",
      "source": [
        "df_france_filtre['Age'] = df_france_filtre['Age'].astype(int)"
      ],
      "metadata": {
        "colab": {
          "base_uri": "https://localhost:8080/"
        },
        "id": "DjujS6soz2jP",
        "outputId": "1c9b7522-7d34-4e6c-a172-285c4ae72c96"
      },
      "execution_count": 30,
      "outputs": [
        {
          "output_type": "stream",
          "name": "stderr",
          "text": [
            "<ipython-input-30-86ba89508e12>:1: SettingWithCopyWarning: \n",
            "A value is trying to be set on a copy of a slice from a DataFrame.\n",
            "Try using .loc[row_indexer,col_indexer] = value instead\n",
            "\n",
            "See the caveats in the documentation: https://pandas.pydata.org/pandas-docs/stable/user_guide/indexing.html#returning-a-view-versus-a-copy\n",
            "  df_france_filtre['Age'] = df_france_filtre['Age'].astype(int)\n"
          ]
        }
      ]
    },
    {
      "cell_type": "code",
      "source": [
        "print(df_france_filtre.info())"
      ],
      "metadata": {
        "colab": {
          "base_uri": "https://localhost:8080/"
        },
        "id": "ihEvYfk61CwF",
        "outputId": "3020cbbd-1d64-41c2-9803-d69ad8917a87"
      },
      "execution_count": 31,
      "outputs": [
        {
          "output_type": "stream",
          "name": "stdout",
          "text": [
            "<class 'pandas.core.frame.DataFrame'>\n",
            "Index: 9646 entries, 98 to 271038\n",
            "Data columns (total 10 columns):\n",
            " #   Column  Non-Null Count  Dtype \n",
            "---  ------  --------------  ----- \n",
            " 0   ID      9646 non-null   int64 \n",
            " 1   Name    9646 non-null   object\n",
            " 2   Sex     9646 non-null   object\n",
            " 3   Age     9646 non-null   int64 \n",
            " 4   Team    9646 non-null   object\n",
            " 5   Year    9646 non-null   int64 \n",
            " 6   Season  9646 non-null   object\n",
            " 7   City    9646 non-null   object\n",
            " 8   Sport   9646 non-null   object\n",
            " 9   Medal   9646 non-null   object\n",
            "dtypes: int64(3), object(7)\n",
            "memory usage: 829.0+ KB\n",
            "None\n"
          ]
        }
      ]
    },
    {
      "cell_type": "code",
      "source": [
        "print(df_france_filtre.shape)"
      ],
      "metadata": {
        "colab": {
          "base_uri": "https://localhost:8080/"
        },
        "id": "vDFUa2ljkJmj",
        "outputId": "6db9e6a4-9a1b-4986-f583-36e2914ed392"
      },
      "execution_count": 32,
      "outputs": [
        {
          "output_type": "stream",
          "name": "stdout",
          "text": [
            "(9646, 10)\n"
          ]
        }
      ]
    },
    {
      "cell_type": "code",
      "source": [
        "df_france_filtre.to_csv(\"/content/drive/MyDrive/Copie de PARIS 0224 - Data Analyst/Projets/mini projet /Farid_Yanis_Mission_data/Commun/Fichier CSV/120_ans_JO.csv\", index = False)"
      ],
      "metadata": {
        "id": "OQIUlDxrveE8"
      },
      "execution_count": 33,
      "outputs": []
    },
    {
      "cell_type": "code",
      "source": [
        "# drop les NAN des colonnes\n",
        "#df_na_fr = df_francais.dropna()\n",
        "#df_na_fr = df_francais.dropna(subset=['Medal'])"
      ],
      "metadata": {
        "id": "Hh_lh9Q02LaC"
      },
      "execution_count": 34,
      "outputs": []
    },
    {
      "cell_type": "code",
      "source": [
        "#print(df_na_fr.head().to_markdown())"
      ],
      "metadata": {
        "id": "Kj2tSicz2ZTD"
      },
      "execution_count": 35,
      "outputs": []
    },
    {
      "cell_type": "code",
      "source": [
        "#print(df_na_fr.shape)"
      ],
      "metadata": {
        "id": "lUchSfU-268F"
      },
      "execution_count": 36,
      "outputs": []
    },
    {
      "cell_type": "code",
      "source": [
        "# voir les isna dans toutes colonnes\n",
        "#print(df_na_fr.isnull().sum())"
      ],
      "metadata": {
        "id": "sTajxJBR3ycl"
      },
      "execution_count": 37,
      "outputs": []
    }
  ]
}