{
  "nbformat": 4,
  "nbformat_minor": 0,
  "metadata": {
    "colab": {
      "provenance": [],
      "include_colab_link": true
    },
    "kernelspec": {
      "name": "python3",
      "display_name": "Python 3"
    },
    "language_info": {
      "name": "python"
    }
  },
  "cells": [
    {
      "cell_type": "markdown",
      "metadata": {
        "id": "view-in-github",
        "colab_type": "text"
      },
      "source": [
        "<a href=\"https://colab.research.google.com/github/Yanisberre/projet3/blob/main/120ans_JO.ipynb\" target=\"_parent\"><img src=\"https://colab.research.google.com/assets/colab-badge.svg\" alt=\"Open In Colab\"/></a>"
      ]
    },
    {
      "cell_type": "code",
      "execution_count": 49,
      "metadata": {
        "id": "Y-z14t-eZmy8"
      },
      "outputs": [],
      "source": [
        "import pandas as pd\n",
        "import numpy as np"
      ]
    },
    {
      "cell_type": "code",
      "source": [
        "from google.colab import drive\n",
        "drive.mount('/content/drive')"
      ],
      "metadata": {
        "id": "SfRhherbaHp_",
        "colab": {
          "base_uri": "https://localhost:8080/"
        },
        "outputId": "f6d35055-c5dd-4d53-e0c8-17e64431aefc"
      },
      "execution_count": 50,
      "outputs": [
        {
          "output_type": "stream",
          "name": "stdout",
          "text": [
            "Drive already mounted at /content/drive; to attempt to forcibly remount, call drive.mount(\"/content/drive\", force_remount=True).\n"
          ]
        }
      ]
    },
    {
      "cell_type": "code",
      "source": [
        "path = \"/content/drive/MyDrive/Copie de PARIS 0224 - Data Analyst/Projets/mini projet /Farid_Yanis_Mission_data/Commun/Fichier CSV/120_years.csv.zip\"\n",
        "df = pd.read_csv(path)"
      ],
      "metadata": {
        "id": "Ga-pqm0UaKbe"
      },
      "execution_count": 51,
      "outputs": []
    },
    {
      "cell_type": "code",
      "source": [
        "print(df.head().to_markdown())"
      ],
      "metadata": {
        "id": "_1kODECvcmps",
        "colab": {
          "base_uri": "https://localhost:8080/"
        },
        "outputId": "a277494f-c608-4c27-fb14-fb326193c924"
      },
      "execution_count": 52,
      "outputs": [
        {
          "output_type": "stream",
          "name": "stdout",
          "text": [
            "|    |   ID | Name                     | Sex   |   Age |   Height |   Weight | Team           | NOC   | Games       |   Year | Season   | City      | Sport         | Event                            | Medal   |\n",
            "|---:|-----:|:-------------------------|:------|------:|---------:|---------:|:---------------|:------|:------------|-------:|:---------|:----------|:--------------|:---------------------------------|:--------|\n",
            "|  0 |    1 | A Dijiang                | M     |    24 |      180 |       80 | China          | CHN   | 1992 Summer |   1992 | Summer   | Barcelona | Basketball    | Basketball Men's Basketball      | nan     |\n",
            "|  1 |    2 | A Lamusi                 | M     |    23 |      170 |       60 | China          | CHN   | 2012 Summer |   2012 | Summer   | London    | Judo          | Judo Men's Extra-Lightweight     | nan     |\n",
            "|  2 |    3 | Gunnar Nielsen Aaby      | M     |    24 |      nan |      nan | Denmark        | DEN   | 1920 Summer |   1920 | Summer   | Antwerpen | Football      | Football Men's Football          | nan     |\n",
            "|  3 |    4 | Edgar Lindenau Aabye     | M     |    34 |      nan |      nan | Denmark/Sweden | DEN   | 1900 Summer |   1900 | Summer   | Paris     | Tug-Of-War    | Tug-Of-War Men's Tug-Of-War      | Gold    |\n",
            "|  4 |    5 | Christine Jacoba Aaftink | F     |    21 |      185 |       82 | Netherlands    | NED   | 1988 Winter |   1988 | Winter   | Calgary   | Speed Skating | Speed Skating Women's 500 metres | nan     |\n"
          ]
        }
      ]
    },
    {
      "cell_type": "code",
      "source": [
        "print(df.shape)"
      ],
      "metadata": {
        "id": "n2GBHRoOeQVP",
        "colab": {
          "base_uri": "https://localhost:8080/"
        },
        "outputId": "c8e15848-a2d7-41c2-dbda-a7300fcc115e"
      },
      "execution_count": 53,
      "outputs": [
        {
          "output_type": "stream",
          "name": "stdout",
          "text": [
            "(271116, 15)\n"
          ]
        }
      ]
    },
    {
      "cell_type": "code",
      "source": [
        "print(df.info())"
      ],
      "metadata": {
        "id": "n4DYC5IVeXgc",
        "colab": {
          "base_uri": "https://localhost:8080/"
        },
        "outputId": "724f7dd2-e254-421a-89b4-7d36edcd63c6"
      },
      "execution_count": 54,
      "outputs": [
        {
          "output_type": "stream",
          "name": "stdout",
          "text": [
            "<class 'pandas.core.frame.DataFrame'>\n",
            "RangeIndex: 271116 entries, 0 to 271115\n",
            "Data columns (total 15 columns):\n",
            " #   Column  Non-Null Count   Dtype  \n",
            "---  ------  --------------   -----  \n",
            " 0   ID      271116 non-null  int64  \n",
            " 1   Name    271116 non-null  object \n",
            " 2   Sex     271116 non-null  object \n",
            " 3   Age     261642 non-null  float64\n",
            " 4   Height  210945 non-null  float64\n",
            " 5   Weight  208241 non-null  float64\n",
            " 6   Team    271116 non-null  object \n",
            " 7   NOC     271116 non-null  object \n",
            " 8   Games   271116 non-null  object \n",
            " 9   Year    271116 non-null  int64  \n",
            " 10  Season  271116 non-null  object \n",
            " 11  City    271116 non-null  object \n",
            " 12  Sport   271116 non-null  object \n",
            " 13  Event   271116 non-null  object \n",
            " 14  Medal   39783 non-null   object \n",
            "dtypes: float64(3), int64(2), object(10)\n",
            "memory usage: 31.0+ MB\n",
            "None\n"
          ]
        }
      ]
    },
    {
      "cell_type": "code",
      "source": [
        "df_drop_columns = df.drop(columns=['NOC','Year','Event'])"
      ],
      "metadata": {
        "id": "DidY_S_tfQO1"
      },
      "execution_count": 55,
      "outputs": []
    },
    {
      "cell_type": "code",
      "source": [
        "print(df_drop_columns.head().to_markdown())"
      ],
      "metadata": {
        "id": "GFLnU6_0gxr5",
        "colab": {
          "base_uri": "https://localhost:8080/"
        },
        "outputId": "1dbac1d5-7f71-42ee-8c91-d3f5d6650b2b"
      },
      "execution_count": 56,
      "outputs": [
        {
          "output_type": "stream",
          "name": "stdout",
          "text": [
            "|    |   ID | Name                     | Sex   |   Age |   Height |   Weight | Team           | Games       | Season   | City      | Sport         | Medal   |\n",
            "|---:|-----:|:-------------------------|:------|------:|---------:|---------:|:---------------|:------------|:---------|:----------|:--------------|:--------|\n",
            "|  0 |    1 | A Dijiang                | M     |    24 |      180 |       80 | China          | 1992 Summer | Summer   | Barcelona | Basketball    | nan     |\n",
            "|  1 |    2 | A Lamusi                 | M     |    23 |      170 |       60 | China          | 2012 Summer | Summer   | London    | Judo          | nan     |\n",
            "|  2 |    3 | Gunnar Nielsen Aaby      | M     |    24 |      nan |      nan | Denmark        | 1920 Summer | Summer   | Antwerpen | Football      | nan     |\n",
            "|  3 |    4 | Edgar Lindenau Aabye     | M     |    34 |      nan |      nan | Denmark/Sweden | 1900 Summer | Summer   | Paris     | Tug-Of-War    | Gold    |\n",
            "|  4 |    5 | Christine Jacoba Aaftink | F     |    21 |      185 |       82 | Netherlands    | 1988 Winter | Winter   | Calgary   | Speed Skating | nan     |\n"
          ]
        }
      ]
    },
    {
      "cell_type": "code",
      "source": [
        "print(df_drop_columns.shape)"
      ],
      "metadata": {
        "id": "B0ZbclhihlZB",
        "colab": {
          "base_uri": "https://localhost:8080/"
        },
        "outputId": "981b83e7-7af8-4735-ee49-0954f51d33c8"
      },
      "execution_count": 57,
      "outputs": [
        {
          "output_type": "stream",
          "name": "stdout",
          "text": [
            "(271116, 12)\n"
          ]
        }
      ]
    },
    {
      "cell_type": "code",
      "source": [
        "df_na = df_drop_columns.dropna()"
      ],
      "metadata": {
        "id": "BiJlt0qihqXV"
      },
      "execution_count": 58,
      "outputs": []
    },
    {
      "cell_type": "code",
      "source": [
        "print(df_na.head().to_markdown())"
      ],
      "metadata": {
        "id": "PcRd0aA0iCTp",
        "colab": {
          "base_uri": "https://localhost:8080/"
        },
        "outputId": "abcdc9e2-c8cf-41d6-ccc6-7edd41ae69db"
      },
      "execution_count": 59,
      "outputs": [
        {
          "output_type": "stream",
          "name": "stdout",
          "text": [
            "|    |   ID | Name                     | Sex   |   Age |   Height |   Weight | Team    | Games       | Season   | City   | Sport      | Medal   |\n",
            "|---:|-----:|:-------------------------|:------|------:|---------:|---------:|:--------|:------------|:---------|:-------|:-----------|:--------|\n",
            "| 40 |   16 | Juhamatti Tapio Aaltonen | M     |    28 |      184 |       85 | Finland | 2014 Winter | Winter   | Sochi  | Ice Hockey | Bronze  |\n",
            "| 41 |   17 | Paavo Johannes Aaltonen  | M     |    28 |      175 |       64 | Finland | 1948 Summer | Summer   | London | Gymnastics | Bronze  |\n",
            "| 42 |   17 | Paavo Johannes Aaltonen  | M     |    28 |      175 |       64 | Finland | 1948 Summer | Summer   | London | Gymnastics | Gold    |\n",
            "| 44 |   17 | Paavo Johannes Aaltonen  | M     |    28 |      175 |       64 | Finland | 1948 Summer | Summer   | London | Gymnastics | Gold    |\n",
            "| 48 |   17 | Paavo Johannes Aaltonen  | M     |    28 |      175 |       64 | Finland | 1948 Summer | Summer   | London | Gymnastics | Gold    |\n"
          ]
        }
      ]
    },
    {
      "cell_type": "code",
      "source": [
        "# Filtrer les sportifs français\n",
        "df_francais = df_na[df_na['Team'] == 'France']\n",
        "# Afficher le DataFrame filtré\n",
        "print(df_francais)\n"
      ],
      "metadata": {
        "id": "kegRzc8PizPI",
        "colab": {
          "base_uri": "https://localhost:8080/"
        },
        "outputId": "5e6ecaaf-38ee-411e-d73e-816b9daf218d"
      },
      "execution_count": 60,
      "outputs": [
        {
          "output_type": "stream",
          "name": "stdout",
          "text": [
            "            ID                       Name Sex   Age  Height  Weight    Team  \\\n",
            "173         73                  Luc Abalo   M  23.0   182.0    86.0  France   \n",
            "174         73                  Luc Abalo   M  27.0   182.0    86.0  France   \n",
            "175         73                  Luc Abalo   M  31.0   182.0    86.0  France   \n",
            "200         93             Jol Marc Abati   M  38.0   190.0    85.0  France   \n",
            "1044       583             Julien Absalon   M  23.0   180.0    68.0  France   \n",
            "...        ...                        ...  ..   ...     ...     ...     ...   \n",
            "264057  132134   Isabelle Yacoubou-Dehoui   F  26.0   190.0   104.0  France   \n",
            "264255  132240  Abdelghani \"Ghani\" Yalouz   M  28.0   168.0    69.0  France   \n",
            "265879  133031     Tony Victor James Yoka   M  24.0   200.0   105.0  France   \n",
            "266984  133577           Grce Zaadi Deuna   F  23.0   171.0    66.0  France   \n",
            "267785  133968           Jean-Louis Zanon   M  23.0   180.0    70.0  France   \n",
            "\n",
            "              Games  Season            City       Sport   Medal  \n",
            "173     2008 Summer  Summer         Beijing    Handball    Gold  \n",
            "174     2012 Summer  Summer          London    Handball    Gold  \n",
            "175     2016 Summer  Summer  Rio de Janeiro    Handball  Silver  \n",
            "200     2008 Summer  Summer         Beijing    Handball    Gold  \n",
            "1044    2004 Summer  Summer          Athina     Cycling    Gold  \n",
            "...             ...     ...             ...         ...     ...  \n",
            "264057  2012 Summer  Summer          London  Basketball  Silver  \n",
            "264255  1996 Summer  Summer         Atlanta   Wrestling  Silver  \n",
            "265879  2016 Summer  Summer  Rio de Janeiro      Boxing    Gold  \n",
            "266984  2016 Summer  Summer  Rio de Janeiro    Handball  Silver  \n",
            "267785  1984 Summer  Summer     Los Angeles    Football    Gold  \n",
            "\n",
            "[965 rows x 12 columns]\n"
          ]
        }
      ]
    },
    {
      "cell_type": "code",
      "source": [
        "print(df_francais.head().to_markdown())"
      ],
      "metadata": {
        "id": "oatf0ZtZjtpf",
        "colab": {
          "base_uri": "https://localhost:8080/"
        },
        "outputId": "07fb16e7-4ec8-4f3c-e07c-06b477d61d77"
      },
      "execution_count": 61,
      "outputs": [
        {
          "output_type": "stream",
          "name": "stdout",
          "text": [
            "|      |   ID | Name           | Sex   |   Age |   Height |   Weight | Team   | Games       | Season   | City           | Sport    | Medal   |\n",
            "|-----:|-----:|:---------------|:------|------:|---------:|---------:|:-------|:------------|:---------|:---------------|:---------|:--------|\n",
            "|  173 |   73 | Luc Abalo      | M     |    23 |      182 |       86 | France | 2008 Summer | Summer   | Beijing        | Handball | Gold    |\n",
            "|  174 |   73 | Luc Abalo      | M     |    27 |      182 |       86 | France | 2012 Summer | Summer   | London         | Handball | Gold    |\n",
            "|  175 |   73 | Luc Abalo      | M     |    31 |      182 |       86 | France | 2016 Summer | Summer   | Rio de Janeiro | Handball | Silver  |\n",
            "|  200 |   93 | Jol Marc Abati | M     |    38 |      190 |       85 | France | 2008 Summer | Summer   | Beijing        | Handball | Gold    |\n",
            "| 1044 |  583 | Julien Absalon | M     |    23 |      180 |       68 | France | 2004 Summer | Summer   | Athina         | Cycling  | Gold    |\n"
          ]
        }
      ]
    },
    {
      "cell_type": "code",
      "source": [
        "print(df_francais.shape)"
      ],
      "metadata": {
        "id": "Fd0pvtmKkAW1",
        "colab": {
          "base_uri": "https://localhost:8080/"
        },
        "outputId": "1a6ba0e2-0221-4970-ec98-cad0c77b1480"
      },
      "execution_count": 62,
      "outputs": [
        {
          "output_type": "stream",
          "name": "stdout",
          "text": [
            "(965, 12)\n"
          ]
        }
      ]
    }
  ]
}