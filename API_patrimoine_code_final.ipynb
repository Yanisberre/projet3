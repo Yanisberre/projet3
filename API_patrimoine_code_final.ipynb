{
  "nbformat": 4,
  "nbformat_minor": 0,
  "metadata": {
    "colab": {
      "provenance": [],
      "authorship_tag": "ABX9TyNTAprW40nSSxkfkHDjxGS0",
      "include_colab_link": true
    },
    "kernelspec": {
      "name": "python3",
      "display_name": "Python 3"
    },
    "language_info": {
      "name": "python"
    }
  },
  "cells": [
    {
      "cell_type": "markdown",
      "metadata": {
        "id": "view-in-github",
        "colab_type": "text"
      },
      "source": [
        "<a href=\"https://colab.research.google.com/github/Yanisberre/projet3/blob/main/API_patrimoine_code_final.ipynb\" target=\"_parent\"><img src=\"https://colab.research.google.com/assets/colab-badge.svg\" alt=\"Open In Colab\"/></a>"
      ]
    },
    {
      "cell_type": "code",
      "execution_count": 1,
      "metadata": {
        "id": "NlhglLebiLUi"
      },
      "outputs": [],
      "source": [
        "import pandas as pd\n",
        "import requests\n",
        "from pprint import pprint\n",
        "import time\n",
        "from tqdm import tqdm"
      ]
    },
    {
      "cell_type": "code",
      "source": [
        "from google.colab import drive\n",
        "drive.mount('/content/drive')"
      ],
      "metadata": {
        "colab": {
          "base_uri": "https://localhost:8080/"
        },
        "id": "2sxdp0oijxRL",
        "outputId": "8161773a-ae42-4831-bb9a-20c57f0f712c"
      },
      "execution_count": 2,
      "outputs": [
        {
          "output_type": "stream",
          "name": "stdout",
          "text": [
            "Mounted at /content/drive\n"
          ]
        }
      ]
    },
    {
      "cell_type": "code",
      "source": [
        "def get_seuil_api():\n",
        "  url = f\"https://data.iledefrance.fr/api/explore/v2.1/catalog/datasets/sites-labellises-patrimoine-dinteret-regional/records?limit=20&offset=0\"\n",
        "  r = requests.get(url)\n",
        "  r_js = r.json()\n",
        "  seuil = r_js[\"total_count\"]\n",
        "  return seuil\n",
        "seuile = get_seuil_api()\n",
        "print(seuile)"
      ],
      "metadata": {
        "colab": {
          "base_uri": "https://localhost:8080/"
        },
        "id": "Jly9jRRKjxrb",
        "outputId": "ae71c072-cf88-4d40-b1eb-d8218a735127"
      },
      "execution_count": 4,
      "outputs": [
        {
          "output_type": "stream",
          "name": "stdout",
          "text": [
            "218\n"
          ]
        }
      ]
    },
    {
      "cell_type": "code",
      "source": [
        "def extract_events(limite = seuile):\n",
        "  l = []\n",
        "  for depart in tqdm(range(0,limite,20)):\n",
        "    try :\n",
        "      url = f\"https://data.iledefrance.fr/api/explore/v2.1/catalog/datasets/sites-labellises-patrimoine-dinteret-regional/records?limit=20&offset=0\"\n",
        "      r = requests.get(url)\n",
        "      r_js = r.json()\n",
        "      df = pd.json_normalize(r_js, record_path = \"results\")\n",
        "      l.append(df)\n",
        "    except :\n",
        "      time.sleep(5)\n",
        "\n",
        "  df_all  = pd.concat(l)\n",
        "  df_all.to_csv(\"/content/drive/MyDrive/Copie de PARIS 0224 - Data Analyst/Projets/projet3/Mohammed, Yanis/Commun/Datasets(CSV)/df_all_pat.csv\", index = False)\n",
        "  return df_all"
      ],
      "metadata": {
        "id": "HxfdaIOcj0W7"
      },
      "execution_count": 11,
      "outputs": []
    },
    {
      "cell_type": "code",
      "source": [
        "df_result = extract_events()"
      ],
      "metadata": {
        "colab": {
          "base_uri": "https://localhost:8080/"
        },
        "id": "ZCRciZR1j4yL",
        "outputId": "5fb0ff87-32d0-43dc-db13-e8dc590196fd"
      },
      "execution_count": 12,
      "outputs": [
        {
          "output_type": "stream",
          "name": "stderr",
          "text": [
            "100%|██████████| 11/11 [00:06<00:00,  1.79it/s]\n"
          ]
        }
      ]
    },
    {
      "cell_type": "code",
      "source": [
        "url = '/content/drive/MyDrive/Copie de PARIS 0224 - Data Analyst/Projets/projet3/Mohammed, Yanis/Commun/Datasets(CSV)/df_all_pat.csv'\n",
        "df_api_pat = pd.read_csv(url)"
      ],
      "metadata": {
        "id": "JtLIbcxinmyi"
      },
      "execution_count": 13,
      "outputs": []
    },
    {
      "cell_type": "code",
      "source": [
        "print(df_api_pat.columns)"
      ],
      "metadata": {
        "colab": {
          "base_uri": "https://localhost:8080/"
        },
        "id": "LW2Apnz6nn9Z",
        "outputId": "2ad2c7cf-8c46-49b0-c12e-5431eb4d0ac6"
      },
      "execution_count": 14,
      "outputs": [
        {
          "output_type": "stream",
          "name": "stdout",
          "text": [
            "Index(['reference_photo', 'photos_oui_non', 'departement', 'nom_du_site',\n",
            "       'adresse', 'label', 'commentaires',\n",
            "       'proprietaire_du_bien_et_ou_de_la_structure_mandatee_par_le_proprietaire',\n",
            "       'latitude', 'longitude', 'credits_photographiques', 'gps.lon',\n",
            "       'gps.lat', 'photo.thumbnail', 'photo.filename', 'photo.format',\n",
            "       'photo.width', 'photo.mimetype', 'photo.id', 'photo.last_synchronized',\n",
            "       'photo.height', 'photo.color_summary', 'photo.url',\n",
            "       'photo.exif_orientation'],\n",
            "      dtype='object')\n"
          ]
        }
      ]
    },
    {
      "cell_type": "code",
      "source": [
        "print(df_api_pat.shape)"
      ],
      "metadata": {
        "colab": {
          "base_uri": "https://localhost:8080/"
        },
        "id": "_qrISgV7pJGx",
        "outputId": "6f917877-d81a-45f6-db3d-21771e56a191"
      },
      "execution_count": 16,
      "outputs": [
        {
          "output_type": "stream",
          "name": "stdout",
          "text": [
            "(220, 24)\n"
          ]
        }
      ]
    },
    {
      "cell_type": "code",
      "source": [
        "print(df_api_pat.info())"
      ],
      "metadata": {
        "colab": {
          "base_uri": "https://localhost:8080/"
        },
        "id": "ZNoBviekpNKQ",
        "outputId": "b440dc3d-8904-4b9b-fc00-213efa5ed360"
      },
      "execution_count": 17,
      "outputs": [
        {
          "output_type": "stream",
          "name": "stdout",
          "text": [
            "<class 'pandas.core.frame.DataFrame'>\n",
            "RangeIndex: 220 entries, 0 to 219\n",
            "Data columns (total 24 columns):\n",
            " #   Column                                                                   Non-Null Count  Dtype  \n",
            "---  ------                                                                   --------------  -----  \n",
            " 0   reference_photo                                                          220 non-null    float64\n",
            " 1   photos_oui_non                                                           220 non-null    object \n",
            " 2   departement                                                              220 non-null    float64\n",
            " 3   nom_du_site                                                              220 non-null    object \n",
            " 4   adresse                                                                  220 non-null    object \n",
            " 5   label                                                                    220 non-null    object \n",
            " 6   commentaires                                                             220 non-null    object \n",
            " 7   proprietaire_du_bien_et_ou_de_la_structure_mandatee_par_le_proprietaire  220 non-null    object \n",
            " 8   latitude                                                                 220 non-null    float64\n",
            " 9   longitude                                                                220 non-null    float64\n",
            " 10  credits_photographiques                                                  220 non-null    object \n",
            " 11  gps.lon                                                                  220 non-null    float64\n",
            " 12  gps.lat                                                                  220 non-null    float64\n",
            " 13  photo.thumbnail                                                          220 non-null    bool   \n",
            " 14  photo.filename                                                           220 non-null    object \n",
            " 15  photo.format                                                             220 non-null    object \n",
            " 16  photo.width                                                              220 non-null    int64  \n",
            " 17  photo.mimetype                                                           220 non-null    object \n",
            " 18  photo.id                                                                 220 non-null    object \n",
            " 19  photo.last_synchronized                                                  220 non-null    object \n",
            " 20  photo.height                                                             220 non-null    int64  \n",
            " 21  photo.color_summary                                                      220 non-null    object \n",
            " 22  photo.url                                                                220 non-null    object \n",
            " 23  photo.exif_orientation                                                   44 non-null     float64\n",
            "dtypes: bool(1), float64(7), int64(2), object(14)\n",
            "memory usage: 39.9+ KB\n",
            "None\n"
          ]
        }
      ]
    },
    {
      "cell_type": "code",
      "source": [
        "df_api_event = df_api_pat.drop(columns=['reference_photo','photos_oui_non', 'commentaires', 'credits_photographiques', 'gps.lon', 'gps.lat', 'photo.thumbnail', 'photo.format', 'photo.width', 'photo.mimetype', 'photo.height', 'photo.exif_orientation'])"
      ],
      "metadata": {
        "id": "TrAudPYEpNwp"
      },
      "execution_count": 22,
      "outputs": []
    },
    {
      "cell_type": "code",
      "source": [
        "df_api_event = df_api_pat.dropna()"
      ],
      "metadata": {
        "id": "sMofTbY3pQPh"
      },
      "execution_count": 23,
      "outputs": []
    },
    {
      "cell_type": "code",
      "source": [
        "print(df_api_pat.head(5).to_markdown())"
      ],
      "metadata": {
        "colab": {
          "base_uri": "https://localhost:8080/"
        },
        "id": "cDURIJxStQ6Q",
        "outputId": "4c057a65-1b3b-49f2-a5db-378acdecb622"
      },
      "execution_count": 28,
      "outputs": [
        {
          "output_type": "stream",
          "name": "stdout",
          "text": [
            "|    |   reference_photo | photos_oui_non   |   departement | nom_du_site                                                      | adresse                                                            | label                                     | commentaires                                                                                                                                                                                                                                                                                                                                                                                                                                                                                                                                                                                                                                                                                                                                                                                                                                                                                                     | proprietaire_du_bien_et_ou_de_la_structure_mandatee_par_le_proprietaire   |   latitude |   longitude | credits_photographiques                                                 |   gps.lon |   gps.lat | photo.thumbnail   | photo.filename   | photo.format   |   photo.width | photo.mimetype   | photo.id                         | photo.last_synchronized    |   photo.height | photo.color_summary                                                                     | photo.url                                                                                                                                          |   photo.exif_orientation |\n",
            "|---:|------------------:|:-----------------|--------------:|:-----------------------------------------------------------------|:-------------------------------------------------------------------|:------------------------------------------|:-----------------------------------------------------------------------------------------------------------------------------------------------------------------------------------------------------------------------------------------------------------------------------------------------------------------------------------------------------------------------------------------------------------------------------------------------------------------------------------------------------------------------------------------------------------------------------------------------------------------------------------------------------------------------------------------------------------------------------------------------------------------------------------------------------------------------------------------------------------------------------------------------------------------|:--------------------------------------------------------------------------|-----------:|------------:|:------------------------------------------------------------------------|----------:|----------:|:------------------|:-----------------|:---------------|--------------:|:-----------------|:---------------------------------|:---------------------------|---------------:|:----------------------------------------------------------------------------------------|:---------------------------------------------------------------------------------------------------------------------------------------------------|-------------------------:|\n",
            "|  0 |               202 | OUI              |            78 | Manessier, atelier et maison                                     | 1 rue du Haut-Martin 78125 Emancé                                  | Labellisé \"Patrimoine d'intérêt régional\" | Cette longère traditionnelle est constituée d’un seul niveau sous combles, tout en longueur. Fin XIXe siècle, un pavillon d’habitation fut ajouté à l’extrémité de la longère. C’est sous cet aspect qu’en 1956 Alfred Manessier (1911-1993) décida d’acheter la maison : ce maître de l’École de Paris, déjà très reconnu, cherchait une maison-atelier où travailler et vivre avec sa famille. Manessier transforma et aménagea la maison lui-même. Architecte de formation, c’est lui qui présida aux ouvertures des baies en façade nord, préservant l’aspect traditionnel de la longère. Aujourd’hui, fait exceptionnel, la cuisine, le salon et l’atelier demeurent intacts ; ils ont été figés après son décès en 1993 avec ses œuvres peintes en cours, ses couleurs et ses pinceaux. Le site est une véritable une plongée dans l’intimité créative de l’un des grands artistes français du XXe siècle. | Monsieur Jean Baptiste Manessier                                          |    48.5923 |     1.72424 | © Région Île-de-France, Laurent Kruszyk                                 |   1.72424 |   48.5923 | True              | 202.jpg          | JPEG           |           517 | image/jpeg       | fdf1e8b47b8422b884e374aa51280cff | 2024-03-26T14:38:37.577644 |            345 | ['rgba(131, 123, 94, 1.00)', 'rgba(128, 124, 97, 1.00)', 'rgba(93, 85, 79, 1.00)']      | https://data.iledefrance.fr/api/explore/v2.1/catalog/datasets/sites-labellises-patrimoine-dinteret-regional/files/fdf1e8b47b8422b884e374aa51280cff |                      nan |\n",
            "|  1 |                44 | OUI              |            78 | Parcours d'art public Saint-Quentin-en-Yvelines : Piotr Kowalski | Communes de Guyancourt et de Montigny-le-Bretonneux                | Labellisé \"Patrimoine d'intérêt régional\" | Comme pour l'ensemble des  villes nouvelles, Saint-Quentin-en-Yvelines a permis à des artistes de renommée internationale de s'exprimer à l'échelle de l'espace public en dialogue avec les nouvelles architectures.  Le ministère de la Culture et le Groupe central des villes nouvelles ont souhaité promouvoir l'art dans la ville à une nouvelle échelle monumentale et inédite.  L'art public constitue donc un patrimoine caractéristique des cinq villes nouvelles d'Île-de-France (Saint-Quentin-en-Yvelines, Cergy-Pontoise, Melun-Senart, Marne-la-Vallée et Evry), marqueur visuel, culturel et identitaire. Le mouvement de la jeune sculpture va y écrire ses lettres de noblesse.                                                                                                                                                                                                                 | Communauté d'agglomération, St-Quentin-en-Yvelines                        |    48.7902 |     2.03517 | © Montigny le Bretonneux, Piotr Kowalski, Arche (c) JC.Bardot coll. MDV |   2.03517 |   48.7902 | True              | 44.jpg           | JPEG           |          2000 | image/jpeg       | b373180e6e4258f9fc478259ac2ef5fd | 2023-02-08T10:03:39.849161 |           1291 | ['rgba(156, 186, 227, 1.00)', 'rgba(135, 148, 156, 1.00)', 'rgba(105, 116, 128, 1.00)'] | https://data.iledefrance.fr/api/explore/v2.1/catalog/datasets/sites-labellises-patrimoine-dinteret-regional/files/b373180e6e4258f9fc478259ac2ef5fd |                      nan |\n",
            "|    |                   |                  |               |                                                                  |                                                                    |                                           | Au centre de la ville de Saint-Quentin en Yvelines, trois œuvres s'insèrent dans un parcours sur le thème de l'eau en référence à Versailles toute proche. De par leur dimension et leur force symbolique, elles structurent tout le centre-ville par des jeux de perspectives : \"Meta\", Nissim Merkado ; \"La Porte de Paris\", Piotr Kowalski et \"La Perspective\", Marta Pan.                                                                                                                                                                                                                                                                                                                                                                                                                                                                                                                                    |                                                                           |            |             |                                                                         |           |           |                   |                  |                |               |                  |                                  |                            |                |                                                                                         |                                                                                                                                                    |                          |\n",
            "|    |                   |                  |               |                                                                  |                                                                    |                                           | \"La Porte de Paris\" (Piotr Kowalski, 1983-1991) : une arche métallique recouverte de plaques de verre bleu de Murano, scintillant comme une peau de serpent, est installée sur un rond-point à l'entrée de la ville et forme, en son reflet dans un bassin, un cercle complet. Elle constitue un signal fort d'entrée de ville sur le principal rond-point d'accès. Devenue un véritable repère pour les habitants, cette œuvre cinétique offre des perceptions différentes en fonction des lumières, du jour ou de la nuit.  Artiste international, Kowalski a réalisé à Saint-Quentin-en-Yvelines son œuvre majeure dans l'espace public et sa création ultime avant sa disparition.                                                                                                                                                                                                                           |                                                                           |            |             |                                                                         |           |           |                   |                  |                |               |                  |                                  |                            |                |                                                                                         |                                                                                                                                                    |                          |\n",
            "|  2 |                45 | OUI              |            78 | Monument aux morts                                               | Place André Thome et Jacqueline Thome-Patenôtre, 78120 Rambouillet | Labellisé \"Patrimoine d'intérêt régional\" | Le monument aux morts de Rambouillet, particulièrement monumental, est doté d’une iconographie originale. En effet, il représente les cinq années de la guerre de 1914-1918, chacune associée à une bataille. Deux noms prestigieux y sont associés : l'architecte Paul Tournon et le sculpteur Antoine Sartorio.                                                                                                                                                                                                                                                                                                                                                                                                                                                                                                                                                                                                | Commune de Rambouillet                                                    |    48.6472 |     1.82327 | © DR                                                                    |   1.82327 |   48.6472 | True              | 45.jpg           | JPEG           |          2000 | image/jpeg       | 3458b417ffe5763a57380307da90f463 | 2023-02-17T16:10:18.020869 |           1599 | ['rgba(132, 153, 162, 1.00)', 'rgba(147, 158, 154, 1.00)', 'rgba(136, 140, 128, 1.00)'] | https://data.iledefrance.fr/api/explore/v2.1/catalog/datasets/sites-labellises-patrimoine-dinteret-regional/files/3458b417ffe5763a57380307da90f463 |                      nan |\n",
            "|  3 |                57 | OUI              |            91 | La Feuilleraie - Maison de maître du XVIIIème siècle             | 1 rue de la Libération, 91480 Varennes-Jarcy                       | Labellisé \"Patrimoine d'intérêt régional\" | Située en plein coeur du village, la propriété se compose d'une maison de maître et de dépendances ouvrant sur un grand parc paysager. L'ensemble, d'une superficie de 12 600 m2, appartient à la commune et se distingue par des hauts murs de meulière et d'importantes frondaisons. Des arbres d'essences diverses (tilleul, marronnier, platane, érable champêtre, frêne, pin...), certains bicentenaires, entourent une immense pelouse fermée, côté place de l'église, par des grilles qui proviendraient du jardin des Tuileries : la qualité de ce site, bien qu'en marge de la vallée de l'Yerres, lui a valu d'être intégré dans le périmètre classé au titre des paysages remarquables en décembre 2006.                                                                                                                                                                                              | Commune de Varennes-Jarcy                                                 |    48.68   |     2.55841 | © DR                                                                    |   2.55841 |   48.68   | True              | 57.jpg           | JPEG           |          2000 | image/jpeg       | 8887a1eecac9ec9c5fcc197df8909725 | 2023-02-08T10:03:40.723623 |           1500 | ['rgba(97, 117, 141, 1.00)', 'rgba(105, 105, 96, 1.00)', 'rgba(70, 81, 26, 1.00)']      | https://data.iledefrance.fr/api/explore/v2.1/catalog/datasets/sites-labellises-patrimoine-dinteret-regional/files/8887a1eecac9ec9c5fcc197df8909725 |                      nan |\n",
            "|    |                   |                  |               |                                                                  |                                                                    |                                           | La maison elle-même, construite au XVIIIème siècle et fortement remaniée au siècle suivant, a été occupée par des personnages célèbres, le graveur Oscar Roty, créateur de « La Semeuse », puis Antoine et Consuelo de Saint-Exupéry (1936-1940). Son architecture bénéficie d'un décor soigné : chaînes d'angle et jambes harpées, tables, tympan mouluré au-dessus de la porte d'entrée et lucarnes à frontons animent les façades.                                                                                                                                                                                                                                                                                                                                                                                                                                                                            |                                                                           |            |             |                                                                         |           |           |                   |                  |                |               |                  |                                  |                            |                |                                                                                         |                                                                                                                                                    |                          |\n",
            "|  4 |                63 | OUI              |            78 | Gare de Versailles-Rive-Droite                                   | 40  rue du Maréchal Foch, 78000 Versailles                         | Labellisé \"Patrimoine d'intérêt régional\" | Elevée en 1839 par l'architecte Alfred Armand, elle est un exemple remarquable de gare-terminus du XIXème siècle, la plus ancienne aujourd'hui conservée. A l'extérieur, on observe une façade ordonnancée d'inspiration néo-classique, une entrée principale en plein-cintre avec pilastres et fronton rectangulaire ; la disposition générale et les logiques de circulation initiales sont lisibles.  A l'intérieur, la restauration en cours restitue l'état de 1936-1937, notamment la marquise vitrée du quai transversal et les fresques ornant les murs du hall central.                                                                                                                                                                                                                                                                                                                                 | SNCF Gares et Connexions                                                  |    48.8095 |     2.1339  | © DR                                                                    |   2.1339  |   48.8095 | True              | 63.jpg           | JPEG           |          1200 | image/jpeg       | 8633b80a7b16c7ad6a863328d346168e | 2023-02-08T10:03:41.326790 |            649 | ['rgba(230, 234, 237, 1.00)', 'rgba(107, 101, 92, 1.00)', 'rgba(90, 86, 81, 1.00)']     | https://data.iledefrance.fr/api/explore/v2.1/catalog/datasets/sites-labellises-patrimoine-dinteret-regional/files/8633b80a7b16c7ad6a863328d346168e |                      nan |\n"
          ]
        }
      ]
    },
    {
      "cell_type": "code",
      "source": [
        "print(df_api_pat.shape)"
      ],
      "metadata": {
        "colab": {
          "base_uri": "https://localhost:8080/"
        },
        "id": "NiMuHpX3tSZw",
        "outputId": "d6d1ea93-4da8-4bb9-cc4d-8ed6c05a8dd5"
      },
      "execution_count": 25,
      "outputs": [
        {
          "output_type": "stream",
          "name": "stdout",
          "text": [
            "(220, 24)\n"
          ]
        }
      ]
    },
    {
      "cell_type": "code",
      "source": [
        "df_api_event.to_csv(\"/content/drive/MyDrive/Copie de PARIS 0224 - Data Analyst/Projets/projet3/Mohammed, Yanis/Commun/Datasets(CSV)/df_all_pat_clean_vf.csv\", index = False)"
      ],
      "metadata": {
        "id": "L2EFljTOtS6R"
      },
      "execution_count": 27,
      "outputs": []
    }
  ]
}