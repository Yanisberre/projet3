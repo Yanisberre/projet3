{
  "nbformat": 4,
  "nbformat_minor": 0,
  "metadata": {
    "colab": {
      "provenance": [],
      "include_colab_link": true
    },
    "kernelspec": {
      "name": "python3",
      "display_name": "Python 3"
    },
    "language_info": {
      "name": "python"
    }
  },
  "cells": [
    {
      "cell_type": "markdown",
      "metadata": {
        "id": "view-in-github",
        "colab_type": "text"
      },
      "source": [
        "<a href=\"https://colab.research.google.com/github/Yanisberre/projet3/blob/main/120ans_JOvf.ipynb\" target=\"_parent\"><img src=\"https://colab.research.google.com/assets/colab-badge.svg\" alt=\"Open In Colab\"/></a>"
      ]
    },
    {
      "cell_type": "code",
      "execution_count": 2,
      "metadata": {
        "id": "Y-z14t-eZmy8"
      },
      "outputs": [],
      "source": [
        "import pandas as pd\n",
        "import numpy as np"
      ]
    },
    {
      "cell_type": "code",
      "source": [
        "from google.colab import drive\n",
        "drive.mount('/content/drive')"
      ],
      "metadata": {
        "id": "SfRhherbaHp_",
        "colab": {
          "base_uri": "https://localhost:8080/"
        },
        "outputId": "1f521cc6-9643-48ea-9a17-571dbe82c7df"
      },
      "execution_count": 3,
      "outputs": [
        {
          "output_type": "stream",
          "name": "stdout",
          "text": [
            "Mounted at /content/drive\n"
          ]
        }
      ]
    },
    {
      "cell_type": "code",
      "source": [
        "path = \"/content/drive/MyDrive/Copie de PARIS 0224 - Data Analyst/Projets/mini projet /Farid_Yanis_Mission_data/Commun/Fichier CSV/120_years.csv.zip\"\n",
        "df = pd.read_csv(path)"
      ],
      "metadata": {
        "id": "Ga-pqm0UaKbe"
      },
      "execution_count": 4,
      "outputs": []
    },
    {
      "cell_type": "code",
      "source": [
        "print(df.head().to_markdown())"
      ],
      "metadata": {
        "id": "_1kODECvcmps",
        "colab": {
          "base_uri": "https://localhost:8080/"
        },
        "outputId": "188bcfd0-ff10-4710-91ff-a8480bd966b8"
      },
      "execution_count": 5,
      "outputs": [
        {
          "output_type": "stream",
          "name": "stdout",
          "text": [
            "|    |   ID | Name                     | Sex   |   Age |   Height |   Weight | Team           | NOC   | Games       |   Year | Season   | City      | Sport         | Event                            | Medal   |\n",
            "|---:|-----:|:-------------------------|:------|------:|---------:|---------:|:---------------|:------|:------------|-------:|:---------|:----------|:--------------|:---------------------------------|:--------|\n",
            "|  0 |    1 | A Dijiang                | M     |    24 |      180 |       80 | China          | CHN   | 1992 Summer |   1992 | Summer   | Barcelona | Basketball    | Basketball Men's Basketball      | nan     |\n",
            "|  1 |    2 | A Lamusi                 | M     |    23 |      170 |       60 | China          | CHN   | 2012 Summer |   2012 | Summer   | London    | Judo          | Judo Men's Extra-Lightweight     | nan     |\n",
            "|  2 |    3 | Gunnar Nielsen Aaby      | M     |    24 |      nan |      nan | Denmark        | DEN   | 1920 Summer |   1920 | Summer   | Antwerpen | Football      | Football Men's Football          | nan     |\n",
            "|  3 |    4 | Edgar Lindenau Aabye     | M     |    34 |      nan |      nan | Denmark/Sweden | DEN   | 1900 Summer |   1900 | Summer   | Paris     | Tug-Of-War    | Tug-Of-War Men's Tug-Of-War      | Gold    |\n",
            "|  4 |    5 | Christine Jacoba Aaftink | F     |    21 |      185 |       82 | Netherlands    | NED   | 1988 Winter |   1988 | Winter   | Calgary   | Speed Skating | Speed Skating Women's 500 metres | nan     |\n"
          ]
        }
      ]
    },
    {
      "cell_type": "code",
      "source": [
        "print(df.shape)"
      ],
      "metadata": {
        "id": "n2GBHRoOeQVP",
        "colab": {
          "base_uri": "https://localhost:8080/"
        },
        "outputId": "160c78c8-b904-4840-bea3-b77564f7bd9e"
      },
      "execution_count": 6,
      "outputs": [
        {
          "output_type": "stream",
          "name": "stdout",
          "text": [
            "(271116, 15)\n"
          ]
        }
      ]
    },
    {
      "cell_type": "code",
      "source": [
        "print(df.info())"
      ],
      "metadata": {
        "id": "n4DYC5IVeXgc",
        "colab": {
          "base_uri": "https://localhost:8080/"
        },
        "outputId": "adfaba76-b717-4c9e-edc2-cb867d00b1a1"
      },
      "execution_count": 7,
      "outputs": [
        {
          "output_type": "stream",
          "name": "stdout",
          "text": [
            "<class 'pandas.core.frame.DataFrame'>\n",
            "RangeIndex: 271116 entries, 0 to 271115\n",
            "Data columns (total 15 columns):\n",
            " #   Column  Non-Null Count   Dtype  \n",
            "---  ------  --------------   -----  \n",
            " 0   ID      271116 non-null  int64  \n",
            " 1   Name    271116 non-null  object \n",
            " 2   Sex     271116 non-null  object \n",
            " 3   Age     261642 non-null  float64\n",
            " 4   Height  210945 non-null  float64\n",
            " 5   Weight  208241 non-null  float64\n",
            " 6   Team    271116 non-null  object \n",
            " 7   NOC     271116 non-null  object \n",
            " 8   Games   271116 non-null  object \n",
            " 9   Year    271116 non-null  int64  \n",
            " 10  Season  271116 non-null  object \n",
            " 11  City    271116 non-null  object \n",
            " 12  Sport   271116 non-null  object \n",
            " 13  Event   271116 non-null  object \n",
            " 14  Medal   39783 non-null   object \n",
            "dtypes: float64(3), int64(2), object(10)\n",
            "memory usage: 31.0+ MB\n",
            "None\n"
          ]
        }
      ]
    },
    {
      "cell_type": "code",
      "source": [
        "df_drop_columns = df.drop(columns=['NOC','Event','Height','Weight'])"
      ],
      "metadata": {
        "id": "DidY_S_tfQO1"
      },
      "execution_count": 8,
      "outputs": []
    },
    {
      "cell_type": "code",
      "source": [
        "print(df_drop_columns.head().to_markdown())"
      ],
      "metadata": {
        "id": "GFLnU6_0gxr5",
        "colab": {
          "base_uri": "https://localhost:8080/"
        },
        "outputId": "7e82b6a8-56f8-4c0f-933a-d41ddf2b2e93"
      },
      "execution_count": 9,
      "outputs": [
        {
          "output_type": "stream",
          "name": "stdout",
          "text": [
            "|    |   ID | Name                     | Sex   |   Age | Team           | Games       |   Year | Season   | City      | Sport         | Medal   |\n",
            "|---:|-----:|:-------------------------|:------|------:|:---------------|:------------|-------:|:---------|:----------|:--------------|:--------|\n",
            "|  0 |    1 | A Dijiang                | M     |    24 | China          | 1992 Summer |   1992 | Summer   | Barcelona | Basketball    | nan     |\n",
            "|  1 |    2 | A Lamusi                 | M     |    23 | China          | 2012 Summer |   2012 | Summer   | London    | Judo          | nan     |\n",
            "|  2 |    3 | Gunnar Nielsen Aaby      | M     |    24 | Denmark        | 1920 Summer |   1920 | Summer   | Antwerpen | Football      | nan     |\n",
            "|  3 |    4 | Edgar Lindenau Aabye     | M     |    34 | Denmark/Sweden | 1900 Summer |   1900 | Summer   | Paris     | Tug-Of-War    | Gold    |\n",
            "|  4 |    5 | Christine Jacoba Aaftink | F     |    21 | Netherlands    | 1988 Winter |   1988 | Winter   | Calgary   | Speed Skating | nan     |\n"
          ]
        }
      ]
    },
    {
      "cell_type": "code",
      "source": [
        "print(df_drop_columns.shape)"
      ],
      "metadata": {
        "id": "B0ZbclhihlZB",
        "colab": {
          "base_uri": "https://localhost:8080/"
        },
        "outputId": "161c5b83-5114-4244-8b34-a9915e40f656"
      },
      "execution_count": 10,
      "outputs": [
        {
          "output_type": "stream",
          "name": "stdout",
          "text": [
            "(271116, 11)\n"
          ]
        }
      ]
    },
    {
      "cell_type": "code",
      "source": [
        "#df_na = df_drop_columns.dropna()"
      ],
      "metadata": {
        "id": "BiJlt0qihqXV"
      },
      "execution_count": 11,
      "outputs": []
    },
    {
      "cell_type": "code",
      "source": [
        "print(df_drop_columns.head().to_markdown())"
      ],
      "metadata": {
        "id": "PcRd0aA0iCTp",
        "colab": {
          "base_uri": "https://localhost:8080/"
        },
        "outputId": "1e313d38-f049-4c48-9ae9-fdc5615ed73d"
      },
      "execution_count": 12,
      "outputs": [
        {
          "output_type": "stream",
          "name": "stdout",
          "text": [
            "|    |   ID | Name                     | Sex   |   Age | Team           | Games       |   Year | Season   | City      | Sport         | Medal   |\n",
            "|---:|-----:|:-------------------------|:------|------:|:---------------|:------------|-------:|:---------|:----------|:--------------|:--------|\n",
            "|  0 |    1 | A Dijiang                | M     |    24 | China          | 1992 Summer |   1992 | Summer   | Barcelona | Basketball    | nan     |\n",
            "|  1 |    2 | A Lamusi                 | M     |    23 | China          | 2012 Summer |   2012 | Summer   | London    | Judo          | nan     |\n",
            "|  2 |    3 | Gunnar Nielsen Aaby      | M     |    24 | Denmark        | 1920 Summer |   1920 | Summer   | Antwerpen | Football      | nan     |\n",
            "|  3 |    4 | Edgar Lindenau Aabye     | M     |    34 | Denmark/Sweden | 1900 Summer |   1900 | Summer   | Paris     | Tug-Of-War    | Gold    |\n",
            "|  4 |    5 | Christine Jacoba Aaftink | F     |    21 | Netherlands    | 1988 Winter |   1988 | Winter   | Calgary   | Speed Skating | nan     |\n"
          ]
        }
      ]
    },
    {
      "cell_type": "code",
      "source": [
        "# Filtrer les sportifs français\n",
        "df_francais = df_drop_columns[df_drop_columns['Team'] == 'France']\n",
        "# Afficher le DataFrame filtré\n",
        "print(df_francais)\n"
      ],
      "metadata": {
        "id": "kegRzc8PizPI",
        "colab": {
          "base_uri": "https://localhost:8080/"
        },
        "outputId": "421974ea-7ca7-43ba-a24b-7f0463d809fe"
      },
      "execution_count": 13,
      "outputs": [
        {
          "output_type": "stream",
          "name": "stdout",
          "text": [
            "            ID                                Name Sex   Age    Team  \\\n",
            "98          34  Jamale (Djamel-) Aarrass (Ahrass-)   M  30.0  France   \n",
            "145         52                       Patrick Abada   M  22.0  France   \n",
            "149         56                          Ren Abadie   M  21.0  France   \n",
            "150         56                          Ren Abadie   M  21.0  France   \n",
            "173         73                           Luc Abalo   M  23.0  France   \n",
            "...        ...                                 ...  ..   ...     ...   \n",
            "270662  135362                    Michel Zucarelli   M  18.0  France   \n",
            "270663  135362                    Michel Zucarelli   M  18.0  France   \n",
            "271036  135538                     Jonathan Zwikel   M  22.0  France   \n",
            "271037  135538                     Jonathan Zwikel   M  26.0  France   \n",
            "271038  135539               Marius Edmund Zwiller   M  18.0  France   \n",
            "\n",
            "              Games  Year  Season            City       Sport Medal  \n",
            "98      2012 Summer  2012  Summer          London   Athletics   NaN  \n",
            "145     1976 Summer  1976  Summer        Montreal   Athletics   NaN  \n",
            "149     1956 Summer  1956  Summer       Melbourne     Cycling   NaN  \n",
            "150     1956 Summer  1956  Summer       Melbourne     Cycling  Gold  \n",
            "173     2008 Summer  2008  Summer         Beijing    Handball  Gold  \n",
            "...             ...   ...     ...             ...         ...   ...  \n",
            "270662  1972 Summer  1972  Summer          Munich     Cycling   NaN  \n",
            "270663  1972 Summer  1972  Summer          Munich     Cycling   NaN  \n",
            "271036  1998 Winter  1998  Winter          Nagano  Ice Hockey   NaN  \n",
            "271037  2002 Winter  2002  Winter  Salt Lake City  Ice Hockey   NaN  \n",
            "271038  1924 Summer  1924  Summer           Paris    Swimming   NaN  \n",
            "\n",
            "[11988 rows x 11 columns]\n"
          ]
        }
      ]
    },
    {
      "cell_type": "code",
      "source": [
        "print(df_francais.head().to_markdown())"
      ],
      "metadata": {
        "id": "oatf0ZtZjtpf",
        "colab": {
          "base_uri": "https://localhost:8080/"
        },
        "outputId": "a1471b0e-35d6-48a0-b0d4-56c656b9102c"
      },
      "execution_count": 14,
      "outputs": [
        {
          "output_type": "stream",
          "name": "stdout",
          "text": [
            "|     |   ID | Name                               | Sex   |   Age | Team   | Games       |   Year | Season   | City      | Sport     | Medal   |\n",
            "|----:|-----:|:-----------------------------------|:------|------:|:-------|:------------|-------:|:---------|:----------|:----------|:--------|\n",
            "|  98 |   34 | Jamale (Djamel-) Aarrass (Ahrass-) | M     |    30 | France | 2012 Summer |   2012 | Summer   | London    | Athletics | nan     |\n",
            "| 145 |   52 | Patrick Abada                      | M     |    22 | France | 1976 Summer |   1976 | Summer   | Montreal  | Athletics | nan     |\n",
            "| 149 |   56 | Ren Abadie                         | M     |    21 | France | 1956 Summer |   1956 | Summer   | Melbourne | Cycling   | nan     |\n",
            "| 150 |   56 | Ren Abadie                         | M     |    21 | France | 1956 Summer |   1956 | Summer   | Melbourne | Cycling   | Gold    |\n",
            "| 173 |   73 | Luc Abalo                          | M     |    23 | France | 2008 Summer |   2008 | Summer   | Beijing   | Handball  | Gold    |\n"
          ]
        }
      ]
    },
    {
      "cell_type": "code",
      "source": [
        "print(df_francais.shape)"
      ],
      "metadata": {
        "id": "Fd0pvtmKkAW1",
        "colab": {
          "base_uri": "https://localhost:8080/"
        },
        "outputId": "5fe354c2-21be-4e48-c0f9-631bce61eff5"
      },
      "execution_count": 15,
      "outputs": [
        {
          "output_type": "stream",
          "name": "stdout",
          "text": [
            "(11988, 11)\n"
          ]
        }
      ]
    },
    {
      "cell_type": "code",
      "source": [
        "df_francais['Medal'] = df_francais['Medal'].replace(np.nan, 'No Medal')"
      ],
      "metadata": {
        "colab": {
          "base_uri": "https://localhost:8080/"
        },
        "id": "v_fF_MYP6gTM",
        "outputId": "fa17b46e-2ec4-4fe4-ec04-317aec4326e2"
      },
      "execution_count": 16,
      "outputs": [
        {
          "output_type": "stream",
          "name": "stderr",
          "text": [
            "<ipython-input-16-f4ba18b24a1c>:1: SettingWithCopyWarning: \n",
            "A value is trying to be set on a copy of a slice from a DataFrame.\n",
            "Try using .loc[row_indexer,col_indexer] = value instead\n",
            "\n",
            "See the caveats in the documentation: https://pandas.pydata.org/pandas-docs/stable/user_guide/indexing.html#returning-a-view-versus-a-copy\n",
            "  df_francais['Medal'] = df_francais['Medal'].replace(np.nan, 'No Medal')\n"
          ]
        }
      ]
    },
    {
      "cell_type": "code",
      "source": [
        "print(df_francais.head().to_markdown())"
      ],
      "metadata": {
        "colab": {
          "base_uri": "https://localhost:8080/"
        },
        "id": "7BQbI9007VBD",
        "outputId": "9ea4a9a3-8abb-46d9-b769-85e467a41d7f"
      },
      "execution_count": 17,
      "outputs": [
        {
          "output_type": "stream",
          "name": "stdout",
          "text": [
            "|     |   ID | Name                               | Sex   |   Age | Team   | Games       |   Year | Season   | City      | Sport     | Medal    |\n",
            "|----:|-----:|:-----------------------------------|:------|------:|:-------|:------------|-------:|:---------|:----------|:----------|:---------|\n",
            "|  98 |   34 | Jamale (Djamel-) Aarrass (Ahrass-) | M     |    30 | France | 2012 Summer |   2012 | Summer   | London    | Athletics | No Medal |\n",
            "| 145 |   52 | Patrick Abada                      | M     |    22 | France | 1976 Summer |   1976 | Summer   | Montreal  | Athletics | No Medal |\n",
            "| 149 |   56 | Ren Abadie                         | M     |    21 | France | 1956 Summer |   1956 | Summer   | Melbourne | Cycling   | No Medal |\n",
            "| 150 |   56 | Ren Abadie                         | M     |    21 | France | 1956 Summer |   1956 | Summer   | Melbourne | Cycling   | Gold     |\n",
            "| 173 |   73 | Luc Abalo                          | M     |    23 | France | 2008 Summer |   2008 | Summer   | Beijing   | Handball  | Gold     |\n"
          ]
        }
      ]
    },
    {
      "cell_type": "code",
      "source": [
        "print(df_francais.shape)"
      ],
      "metadata": {
        "colab": {
          "base_uri": "https://localhost:8080/"
        },
        "id": "qH9QUSP27p_f",
        "outputId": "43262f04-65fd-44be-b79c-a8978eda7d19"
      },
      "execution_count": 18,
      "outputs": [
        {
          "output_type": "stream",
          "name": "stdout",
          "text": [
            "(11988, 11)\n"
          ]
        }
      ]
    },
    {
      "cell_type": "code",
      "source": [
        "valeurs_uniques = df_francais['Sex'].unique()\n",
        "print(valeurs_uniques)"
      ],
      "metadata": {
        "colab": {
          "base_uri": "https://localhost:8080/"
        },
        "id": "IcFvYt-J_X4g",
        "outputId": "158d792c-e7f4-4934-a361-0f4711c95e8c"
      },
      "execution_count": 19,
      "outputs": [
        {
          "output_type": "stream",
          "name": "stdout",
          "text": [
            "['M' 'F']\n"
          ]
        }
      ]
    },
    {
      "cell_type": "code",
      "source": [
        "# drop les NAN des colonnes\n",
        "#df_na_fr = df_francais.dropna()\n",
        "#df_na_fr = df_francais.dropna(subset=['Medal'])"
      ],
      "metadata": {
        "id": "Hh_lh9Q02LaC"
      },
      "execution_count": 20,
      "outputs": []
    },
    {
      "cell_type": "code",
      "source": [
        "#print(df_na_fr.head().to_markdown())"
      ],
      "metadata": {
        "id": "Kj2tSicz2ZTD"
      },
      "execution_count": 21,
      "outputs": []
    },
    {
      "cell_type": "code",
      "source": [
        "#print(df_na_fr.shape)"
      ],
      "metadata": {
        "id": "lUchSfU-268F"
      },
      "execution_count": 22,
      "outputs": []
    },
    {
      "cell_type": "code",
      "source": [
        "# voir les isna dans toutes colonnes\n",
        "#print(df_na_fr.isnull().sum())"
      ],
      "metadata": {
        "id": "sTajxJBR3ycl"
      },
      "execution_count": 23,
      "outputs": []
    }
  ]
}