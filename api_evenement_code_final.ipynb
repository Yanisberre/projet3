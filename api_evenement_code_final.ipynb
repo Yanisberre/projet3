{
  "cells": [
    {
      "cell_type": "markdown",
      "metadata": {
        "id": "view-in-github",
        "colab_type": "text"
      },
      "source": [
        "<a href=\"https://colab.research.google.com/github/Yanisberre/projet3/blob/main/api_evenement_code_final.ipynb\" target=\"_parent\"><img src=\"https://colab.research.google.com/assets/colab-badge.svg\" alt=\"Open In Colab\"/></a>"
      ]
    },
    {
      "cell_type": "markdown",
      "metadata": {
        "id": "4uIiHjHbBOCM"
      },
      "source": [
        "# packages"
      ]
    },
    {
      "cell_type": "code",
      "execution_count": null,
      "metadata": {
        "id": "pGO3wr3cBHus"
      },
      "outputs": [],
      "source": [
        "import pandas as pd\n",
        "import requests\n",
        "from pprint import pprint\n",
        "import time\n",
        "from tqdm import tqdm"
      ]
    },
    {
      "cell_type": "code",
      "execution_count": null,
      "metadata": {
        "colab": {
          "base_uri": "https://localhost:8080/"
        },
        "id": "Ajz9cAkOC9jw",
        "outputId": "b81b0687-37ef-4566-81e6-2fc8f59da1ab"
      },
      "outputs": [
        {
          "name": "stdout",
          "output_type": "stream",
          "text": [
            "Mounted at /content/drive\n"
          ]
        }
      ],
      "source": [
        "from google.colab import drive\n",
        "drive.mount('/content/drive')"
      ]
    },
    {
      "cell_type": "code",
      "execution_count": null,
      "metadata": {
        "colab": {
          "base_uri": "https://localhost:8080/"
        },
        "id": "vXue_XFMB6y8",
        "outputId": "cc805aac-4c36-4014-89ce-c6daab5a57a5"
      },
      "outputs": [
        {
          "name": "stdout",
          "output_type": "stream",
          "text": [
            "12574\n"
          ]
        }
      ],
      "source": [
        "def get_seuil_api():\n",
        "  url = f\"https://data.iledefrance.fr/api/explore/v2.1/catalog/datasets/evenements-publics-cibul/records?refine=lastdate_end%3A%222024%22&refine=updatedat%3A%222024%22&refine=firstdate_begin%3A%222024%22\"\n",
        "  r = requests.get(url)\n",
        "  r_js = r.json()\n",
        "  seuil = r_js[\"total_count\"]\n",
        "  return seuil\n",
        "seuile = get_seuil_api()\n",
        "print(seuile)"
      ]
    },
    {
      "cell_type": "code",
      "execution_count": null,
      "metadata": {
        "id": "2YMR0IICBadx"
      },
      "outputs": [],
      "source": [
        "def extract_events(limite = seuile):\n",
        "  l = []\n",
        "  for depart in tqdm(range(0,limite,20)):\n",
        "    try :\n",
        "      url = f\"https://data.iledefrance.fr/api/explore/v2.1/catalog/datasets/evenements-publics-cibul/records?limit=20&offset={depart}&refine=lastdate_end%3A%222024%22&refine=updatedat%3A%222024%22&refine=firstdate_begin%3A%222024%22\"\n",
        "      r = requests.get(url)\n",
        "      r_js = r.json()\n",
        "      df = pd.json_normalize(r_js, record_path = \"results\")\n",
        "      l.append(df)\n",
        "    except :\n",
        "      time.sleep(5)\n",
        "\n",
        "  df_all  = pd.concat(l)\n",
        "  df_all.to_csv(\"/content/drive/MyDrive/PARIS 0224 - Data Analyst/Projets/projet3/Mohammed, Yanis/Commun/Datasets/df_event_not_clean.csv\", index = False)\n",
        "  return df_all"
      ]
    },
    {
      "cell_type": "code",
      "execution_count": null,
      "metadata": {
        "colab": {
          "background_save": true,
          "base_uri": "https://localhost:8080/"
        },
        "id": "JqBCiWQ_D3pV",
        "outputId": "3f25e86a-3bcc-413e-fb74-8b0535e13a74"
      },
      "outputs": [
        {
          "name": "stderr",
          "output_type": "stream",
          "text": [
            "100%|██████████| 629/629 [19:34<00:00,  1.87s/it]\n"
          ]
        },
        {
          "ename": "OSError",
          "evalue": "Cannot save file into a non-existent directory: '/content/drive/MyDrive/PARIS 0224 - Data Analyst/Projets/projet3/Mohammed, Yanis/Commun/Datasets'",
          "output_type": "error",
          "traceback": [
            "\u001b[0;31m---------------------------------------------------------------------------\u001b[0m",
            "\u001b[0;31mOSError\u001b[0m                                   Traceback (most recent call last)",
            "\u001b[0;32m<ipython-input-5-3f17a95d5870>\u001b[0m in \u001b[0;36m<cell line: 1>\u001b[0;34m()\u001b[0m\n\u001b[0;32m----> 1\u001b[0;31m \u001b[0mdf_result\u001b[0m \u001b[0;34m=\u001b[0m \u001b[0mextract_events\u001b[0m\u001b[0;34m(\u001b[0m\u001b[0;34m)\u001b[0m\u001b[0;34m\u001b[0m\u001b[0;34m\u001b[0m\u001b[0m\n\u001b[0m",
            "\u001b[0;32m<ipython-input-4-6bab587153c7>\u001b[0m in \u001b[0;36mextract_events\u001b[0;34m(limite)\u001b[0m\n\u001b[1;32m     12\u001b[0m \u001b[0;34m\u001b[0m\u001b[0m\n\u001b[1;32m     13\u001b[0m   \u001b[0mdf_all\u001b[0m  \u001b[0;34m=\u001b[0m \u001b[0mpd\u001b[0m\u001b[0;34m.\u001b[0m\u001b[0mconcat\u001b[0m\u001b[0;34m(\u001b[0m\u001b[0ml\u001b[0m\u001b[0;34m)\u001b[0m\u001b[0;34m\u001b[0m\u001b[0;34m\u001b[0m\u001b[0m\n\u001b[0;32m---> 14\u001b[0;31m   \u001b[0mdf_all\u001b[0m\u001b[0;34m.\u001b[0m\u001b[0mto_csv\u001b[0m\u001b[0;34m(\u001b[0m\u001b[0;34m\"/content/drive/MyDrive/PARIS 0224 - Data Analyst/Projets/projet3/Mohammed, Yanis/Commun/Datasets/df_event_not_clean.csv\"\u001b[0m\u001b[0;34m,\u001b[0m \u001b[0mindex\u001b[0m \u001b[0;34m=\u001b[0m \u001b[0;32mFalse\u001b[0m\u001b[0;34m)\u001b[0m\u001b[0;34m\u001b[0m\u001b[0;34m\u001b[0m\u001b[0m\n\u001b[0m\u001b[1;32m     15\u001b[0m   \u001b[0;32mreturn\u001b[0m \u001b[0mdf_all\u001b[0m\u001b[0;34m\u001b[0m\u001b[0;34m\u001b[0m\u001b[0m\n",
            "\u001b[0;32m/usr/local/lib/python3.10/dist-packages/pandas/core/generic.py\u001b[0m in \u001b[0;36mto_csv\u001b[0;34m(self, path_or_buf, sep, na_rep, float_format, columns, header, index, index_label, mode, encoding, compression, quoting, quotechar, lineterminator, chunksize, date_format, doublequote, escapechar, decimal, errors, storage_options)\u001b[0m\n\u001b[1;32m   3770\u001b[0m         )\n\u001b[1;32m   3771\u001b[0m \u001b[0;34m\u001b[0m\u001b[0m\n\u001b[0;32m-> 3772\u001b[0;31m         return DataFrameRenderer(formatter).to_csv(\n\u001b[0m\u001b[1;32m   3773\u001b[0m             \u001b[0mpath_or_buf\u001b[0m\u001b[0;34m,\u001b[0m\u001b[0;34m\u001b[0m\u001b[0;34m\u001b[0m\u001b[0m\n\u001b[1;32m   3774\u001b[0m             \u001b[0mlineterminator\u001b[0m\u001b[0;34m=\u001b[0m\u001b[0mlineterminator\u001b[0m\u001b[0;34m,\u001b[0m\u001b[0;34m\u001b[0m\u001b[0;34m\u001b[0m\u001b[0m\n",
            "\u001b[0;32m/usr/local/lib/python3.10/dist-packages/pandas/io/formats/format.py\u001b[0m in \u001b[0;36mto_csv\u001b[0;34m(self, path_or_buf, encoding, sep, columns, index_label, mode, compression, quoting, quotechar, lineterminator, chunksize, date_format, doublequote, escapechar, errors, storage_options)\u001b[0m\n\u001b[1;32m   1184\u001b[0m             \u001b[0mformatter\u001b[0m\u001b[0;34m=\u001b[0m\u001b[0mself\u001b[0m\u001b[0;34m.\u001b[0m\u001b[0mfmt\u001b[0m\u001b[0;34m,\u001b[0m\u001b[0;34m\u001b[0m\u001b[0;34m\u001b[0m\u001b[0m\n\u001b[1;32m   1185\u001b[0m         )\n\u001b[0;32m-> 1186\u001b[0;31m         \u001b[0mcsv_formatter\u001b[0m\u001b[0;34m.\u001b[0m\u001b[0msave\u001b[0m\u001b[0;34m(\u001b[0m\u001b[0;34m)\u001b[0m\u001b[0;34m\u001b[0m\u001b[0;34m\u001b[0m\u001b[0m\n\u001b[0m\u001b[1;32m   1187\u001b[0m \u001b[0;34m\u001b[0m\u001b[0m\n\u001b[1;32m   1188\u001b[0m         \u001b[0;32mif\u001b[0m \u001b[0mcreated_buffer\u001b[0m\u001b[0;34m:\u001b[0m\u001b[0;34m\u001b[0m\u001b[0;34m\u001b[0m\u001b[0m\n",
            "\u001b[0;32m/usr/local/lib/python3.10/dist-packages/pandas/io/formats/csvs.py\u001b[0m in \u001b[0;36msave\u001b[0;34m(self)\u001b[0m\n\u001b[1;32m    238\u001b[0m         \"\"\"\n\u001b[1;32m    239\u001b[0m         \u001b[0;31m# apply compression and byte/text conversion\u001b[0m\u001b[0;34m\u001b[0m\u001b[0;34m\u001b[0m\u001b[0m\n\u001b[0;32m--> 240\u001b[0;31m         with get_handle(\n\u001b[0m\u001b[1;32m    241\u001b[0m             \u001b[0mself\u001b[0m\u001b[0;34m.\u001b[0m\u001b[0mfilepath_or_buffer\u001b[0m\u001b[0;34m,\u001b[0m\u001b[0;34m\u001b[0m\u001b[0;34m\u001b[0m\u001b[0m\n\u001b[1;32m    242\u001b[0m             \u001b[0mself\u001b[0m\u001b[0;34m.\u001b[0m\u001b[0mmode\u001b[0m\u001b[0;34m,\u001b[0m\u001b[0;34m\u001b[0m\u001b[0;34m\u001b[0m\u001b[0m\n",
            "\u001b[0;32m/usr/local/lib/python3.10/dist-packages/pandas/io/common.py\u001b[0m in \u001b[0;36mget_handle\u001b[0;34m(path_or_buf, mode, encoding, compression, memory_map, is_text, errors, storage_options)\u001b[0m\n\u001b[1;32m    735\u001b[0m     \u001b[0;31m# Only for write methods\u001b[0m\u001b[0;34m\u001b[0m\u001b[0;34m\u001b[0m\u001b[0m\n\u001b[1;32m    736\u001b[0m     \u001b[0;32mif\u001b[0m \u001b[0;34m\"r\"\u001b[0m \u001b[0;32mnot\u001b[0m \u001b[0;32min\u001b[0m \u001b[0mmode\u001b[0m \u001b[0;32mand\u001b[0m \u001b[0mis_path\u001b[0m\u001b[0;34m:\u001b[0m\u001b[0;34m\u001b[0m\u001b[0;34m\u001b[0m\u001b[0m\n\u001b[0;32m--> 737\u001b[0;31m         \u001b[0mcheck_parent_directory\u001b[0m\u001b[0;34m(\u001b[0m\u001b[0mstr\u001b[0m\u001b[0;34m(\u001b[0m\u001b[0mhandle\u001b[0m\u001b[0;34m)\u001b[0m\u001b[0;34m)\u001b[0m\u001b[0;34m\u001b[0m\u001b[0;34m\u001b[0m\u001b[0m\n\u001b[0m\u001b[1;32m    738\u001b[0m \u001b[0;34m\u001b[0m\u001b[0m\n\u001b[1;32m    739\u001b[0m     \u001b[0;32mif\u001b[0m \u001b[0mcompression\u001b[0m\u001b[0;34m:\u001b[0m\u001b[0;34m\u001b[0m\u001b[0;34m\u001b[0m\u001b[0m\n",
            "\u001b[0;32m/usr/local/lib/python3.10/dist-packages/pandas/io/common.py\u001b[0m in \u001b[0;36mcheck_parent_directory\u001b[0;34m(path)\u001b[0m\n\u001b[1;32m    598\u001b[0m     \u001b[0mparent\u001b[0m \u001b[0;34m=\u001b[0m \u001b[0mPath\u001b[0m\u001b[0;34m(\u001b[0m\u001b[0mpath\u001b[0m\u001b[0;34m)\u001b[0m\u001b[0;34m.\u001b[0m\u001b[0mparent\u001b[0m\u001b[0;34m\u001b[0m\u001b[0;34m\u001b[0m\u001b[0m\n\u001b[1;32m    599\u001b[0m     \u001b[0;32mif\u001b[0m \u001b[0;32mnot\u001b[0m \u001b[0mparent\u001b[0m\u001b[0;34m.\u001b[0m\u001b[0mis_dir\u001b[0m\u001b[0;34m(\u001b[0m\u001b[0;34m)\u001b[0m\u001b[0;34m:\u001b[0m\u001b[0;34m\u001b[0m\u001b[0;34m\u001b[0m\u001b[0m\n\u001b[0;32m--> 600\u001b[0;31m         \u001b[0;32mraise\u001b[0m \u001b[0mOSError\u001b[0m\u001b[0;34m(\u001b[0m\u001b[0;34mrf\"Cannot save file into a non-existent directory: '{parent}'\"\u001b[0m\u001b[0;34m)\u001b[0m\u001b[0;34m\u001b[0m\u001b[0;34m\u001b[0m\u001b[0m\n\u001b[0m\u001b[1;32m    601\u001b[0m \u001b[0;34m\u001b[0m\u001b[0m\n\u001b[1;32m    602\u001b[0m \u001b[0;34m\u001b[0m\u001b[0m\n",
            "\u001b[0;31mOSError\u001b[0m: Cannot save file into a non-existent directory: '/content/drive/MyDrive/PARIS 0224 - Data Analyst/Projets/projet3/Mohammed, Yanis/Commun/Datasets'"
          ]
        }
      ],
      "source": [
        "df_result = extract_events()"
      ]
    },
    {
      "cell_type": "code",
      "execution_count": null,
      "metadata": {
        "colab": {
          "background_save": true
        },
        "id": "nFhL5301ETTA"
      },
      "outputs": [],
      "source": [
        "#execute le code p^r avoir le dataframe avedc les 12k event\n",
        "\n",
        "\n",
        "#etapes de nettoyage"
      ]
    },
    {
      "cell_type": "markdown",
      "metadata": {
        "id": "4Jn3owH0gn0g"
      },
      "source": [
        "# cleaning api event"
      ]
    },
    {
      "cell_type": "code",
      "execution_count": null,
      "metadata": {
        "colab": {
          "background_save": true
        },
        "id": "kJOpRqYKgZ6X"
      },
      "outputs": [],
      "source": [
        "url = '/content/drive/MyDrive/PARIS 0224 - Data Analyst/Projets/projet3/Mohammed, Yanis/Commun/Datasets/df_evenement_api.csv'\n",
        "df_api_event = pd.read_csv(url)"
      ]
    },
    {
      "cell_type": "code",
      "execution_count": null,
      "metadata": {
        "colab": {
          "background_save": true
        },
        "collapsed": true,
        "id": "hMacuFf0kKuG"
      },
      "outputs": [],
      "source": [
        "print(df_api_event.columns)"
      ]
    },
    {
      "cell_type": "code",
      "execution_count": null,
      "metadata": {
        "colab": {
          "background_save": true
        },
        "id": "YaeNicRMlB_q"
      },
      "outputs": [],
      "source": [
        "print(df_api_event.shape)"
      ]
    },
    {
      "cell_type": "code",
      "execution_count": null,
      "metadata": {
        "colab": {
          "background_save": true
        },
        "id": "5DymetCowKKb"
      },
      "outputs": [],
      "source": [
        "print(df_api_event.info())"
      ]
    },
    {
      "cell_type": "code",
      "execution_count": null,
      "metadata": {
        "colab": {
          "background_save": true
        },
        "collapsed": true,
        "id": "4ojrJhSckJKd"
      },
      "outputs": [],
      "source": [
        "df_api_event = df_api_event.drop(columns=['longdescription_fr','keywords_fr', 'imagecredits', 'thumbnail', 'originalimage', 'updatedat', 'timings', 'location_name'])\n"
      ]
    },
    {
      "cell_type": "code",
      "execution_count": null,
      "metadata": {
        "colab": {
          "background_save": true
        },
        "id": "8FK-gPkhsLdD"
      },
      "outputs": [],
      "source": [
        "df_api_event = df_api_event.drop(columns ='attendancemode')"
      ]
    },
    {
      "cell_type": "code",
      "execution_count": null,
      "metadata": {
        "colab": {
          "background_save": true
        },
        "collapsed": true,
        "id": "pVUpAVUIorRc"
      },
      "outputs": [],
      "source": [
        "df_api_event = df_api_event.drop(columns ='links')"
      ]
    },
    {
      "cell_type": "code",
      "execution_count": null,
      "metadata": {
        "colab": {
          "background_save": true
        },
        "collapsed": true,
        "id": "nMmYbGewsc-x"
      },
      "outputs": [],
      "source": [
        "df_api_event = df_api_event.drop(columns ='registration')"
      ]
    },
    {
      "cell_type": "code",
      "execution_count": null,
      "metadata": {
        "colab": {
          "background_save": true
        },
        "id": "izpn5nF6uGmX"
      },
      "outputs": [],
      "source": [
        "df_api_event = df_api_event.drop(columns ='firstdate_end')"
      ]
    },
    {
      "cell_type": "code",
      "execution_count": null,
      "metadata": {
        "colab": {
          "background_save": true
        },
        "id": "yVW_wx8UuRiu"
      },
      "outputs": [],
      "source": [
        "df_api_event = df_api_event.drop(columns ='firstdate_begin')"
      ]
    },
    {
      "cell_type": "code",
      "execution_count": null,
      "metadata": {
        "colab": {
          "background_save": true
        },
        "id": "6W0g5WAVulp8"
      },
      "outputs": [],
      "source": [
        "df_api_event = df_api_event.drop(columns ='lastdate_begin')"
      ]
    },
    {
      "cell_type": "code",
      "execution_count": null,
      "metadata": {
        "colab": {
          "background_save": true
        },
        "id": "QjVYybpcvPaA"
      },
      "outputs": [],
      "source": [
        "df_api_event = df_api_event.drop(columns ='lastdate_end')"
      ]
    },
    {
      "cell_type": "code",
      "execution_count": null,
      "metadata": {
        "colab": {
          "background_save": true
        },
        "collapsed": true,
        "id": "K7xGUCXwwjiy"
      },
      "outputs": [],
      "source": [
        "columns_to_drop = [\n",
        "    'contributor_email',\n",
        "    'contributor_contactnumber',\n",
        "    'contributor_contactname',\n",
        "    'contributor_contactposition',\n",
        "    'contributor_organization',\n",
        "  ]\n",
        "df_api_event = df_api_event.drop(columns=columns_to_drop)\n"
      ]
    },
    {
      "cell_type": "code",
      "execution_count": null,
      "metadata": {
        "colab": {
          "background_save": true
        },
        "id": "wLGy3BXz2rSB"
      },
      "outputs": [],
      "source": [
        "df_api_event = df_api_event.drop(columns ='country_fr')"
      ]
    },
    {
      "cell_type": "code",
      "execution_count": null,
      "metadata": {
        "colab": {
          "background_save": true
        },
        "id": "w0mc5iZE4YUs"
      },
      "outputs": [],
      "source": [
        "df_api_event = df_api_event.drop(columns ='originagenda_uid')"
      ]
    },
    {
      "cell_type": "code",
      "execution_count": null,
      "metadata": {
        "colab": {
          "background_save": true
        },
        "id": "VReDFMws4kD5"
      },
      "outputs": [],
      "source": [
        "df_api_event = df_api_event.drop(columns ='location_description_fr')"
      ]
    },
    {
      "cell_type": "code",
      "execution_count": null,
      "metadata": {
        "colab": {
          "background_save": true
        },
        "id": "dKpIUv0R4sFG"
      },
      "outputs": [],
      "source": [
        "df_api_event = df_api_event.drop(columns ='location_access_fr')"
      ]
    },
    {
      "cell_type": "code",
      "execution_count": null,
      "metadata": {
        "colab": {
          "background_save": true
        },
        "id": "3c0692ut5A7q"
      },
      "outputs": [],
      "source": [
        "df_api_event = df_api_event.drop(columns ='accessibility')"
      ]
    },
    {
      "cell_type": "code",
      "execution_count": null,
      "metadata": {
        "colab": {
          "background_save": true
        },
        "id": "oXu9qS8u8pIQ"
      },
      "outputs": [],
      "source": []
    },
    {
      "cell_type": "code",
      "execution_count": null,
      "metadata": {
        "colab": {
          "background_save": true
        },
        "id": "uHo75MgZ5J4I"
      },
      "outputs": [],
      "source": [
        "df_api_event = df_api_event.drop(columns ='description_fr')"
      ]
    },
    {
      "cell_type": "code",
      "execution_count": null,
      "metadata": {
        "colab": {
          "background_save": true
        },
        "id": "ATeY0hOBwjaC"
      },
      "outputs": [],
      "source": [
        "columns_to_drop1 = [\n",
        "\n",
        "    'category',\n",
        "    'age_max',\n",
        "    'age_min',\n",
        "    'onlineaccesslink',\n",
        "    'location_tags',\n",
        "    'location_image',\n",
        "    'location_imagecredits',\n",
        "    'location_countrycode',\n",
        "    'status',\n",
        "    'location_phone'\n",
        "]\n",
        "\n",
        "# Suppression des colonnes\n",
        "df_api_event = df_api_event.drop(columns=columns_to_drop1)\n"
      ]
    },
    {
      "cell_type": "code",
      "execution_count": null,
      "metadata": {
        "colab": {
          "background_save": true
        },
        "id": "1PVCwO8o7nuG"
      },
      "outputs": [],
      "source": [
        "columns_to_drop = ['location_uid',\n",
        "    'location_district',\n",
        "    'location_insee',\n",
        "    'location_postalcode',\n",
        "    'location_region',\n",
        "    'location_website',\n",
        "    'location_links'\n",
        "]\n",
        "\n",
        "# Suppression des colonnes\n",
        "df_api_event = df_api_event.drop(columns=columns_to_drop)"
      ]
    },
    {
      "cell_type": "code",
      "execution_count": null,
      "metadata": {
        "colab": {
          "background_save": true
        },
        "id": "wZDpPLkO304z"
      },
      "outputs": [],
      "source": [
        "df_api_event = df_api_event[df_api_event['originagenda_title'] != 'Mes événements Pôle Emploi']"
      ]
    },
    {
      "cell_type": "code",
      "execution_count": null,
      "metadata": {
        "colab": {
          "background_save": true
        },
        "id": "xRCt5lFx5blt"
      },
      "outputs": [],
      "source": [
        "df_api_event = df_api_event[df_api_event['slug'] != 'job-dating']"
      ]
    },
    {
      "cell_type": "code",
      "execution_count": null,
      "metadata": {
        "colab": {
          "background_save": true
        },
        "id": "UyRn01FP7m2S"
      },
      "outputs": [],
      "source": [
        "# Suppression des lignes contenant des valeurs NaN\n",
        "df_api_event = df_api_event.dropna()"
      ]
    },
    {
      "cell_type": "code",
      "execution_count": null,
      "metadata": {
        "colab": {
          "background_save": true
        },
        "id": "yCCgb-bUGkgk"
      },
      "outputs": [],
      "source": [
        "df_api_event = df_api_event.drop(columns ='daterange_fr')"
      ]
    },
    {
      "cell_type": "code",
      "execution_count": null,
      "metadata": {
        "colab": {
          "background_save": true
        },
        "collapsed": true,
        "id": "Fyw1Ioduwjeq"
      },
      "outputs": [],
      "source": [
        "print(df_api_event.head(50).to_markdown())"
      ]
    },
    {
      "cell_type": "code",
      "execution_count": null,
      "metadata": {
        "colab": {
          "background_save": true
        },
        "id": "ysH8zWAwB9T4"
      },
      "outputs": [],
      "source": [
        "print(df_api_event.shape)"
      ]
    },
    {
      "cell_type": "code",
      "execution_count": null,
      "metadata": {
        "colab": {
          "background_save": true
        },
        "id": "csgWwX1vFvyG"
      },
      "outputs": [],
      "source": [
        "df_api_event.to_csv(\"/content/drive/MyDrive/PARIS 0224 - Data Analyst/Projets/projet3/Mohammed, Yanis/Commun/Datasets/df_event_clean.csv\", index = False)"
      ]
    }
  ],
  "metadata": {
    "colab": {
      "provenance": [],
      "include_colab_link": true
    },
    "kernelspec": {
      "display_name": "Python 3",
      "name": "python3"
    },
    "language_info": {
      "name": "python"
    }
  },
  "nbformat": 4,
  "nbformat_minor": 0
}